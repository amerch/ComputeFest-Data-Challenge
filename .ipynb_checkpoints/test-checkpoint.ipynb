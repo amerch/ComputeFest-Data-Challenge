{
 "cells": [
  {
   "cell_type": "code",
   "execution_count": 1,
   "metadata": {
    "collapsed": true
   },
   "outputs": [],
   "source": [
    "import numpy as np\n",
    "from sklearn.metrics import roc_auc_score\n",
    "import pandas as pd"
   ]
  },
  {
   "cell_type": "code",
   "execution_count": 2,
   "metadata": {
    "collapsed": true
   },
   "outputs": [],
   "source": [
    "data = pd.read_csv('forest_initial.csv')"
   ]
  },
  {
   "cell_type": "code",
   "execution_count": 3,
   "metadata": {
    "collapsed": true
   },
   "outputs": [],
   "source": [
    "classes = [1] * int(len(data) * 0.01) + [0] * int(len(data) * 0.99)\n",
    "data['true'] = classes"
   ]
  },
  {
   "cell_type": "code",
   "execution_count": 4,
   "metadata": {
    "collapsed": true
   },
   "outputs": [],
   "source": [
    "data = data.sort_values(['Doctor Identifier'], ascending = True)"
   ]
  },
  {
   "cell_type": "code",
   "execution_count": 15,
   "metadata": {},
   "outputs": [
    {
     "ename": "SyntaxError",
     "evalue": "invalid syntax (<ipython-input-15-f1f0d7368bfb>, line 4)",
     "output_type": "error",
     "traceback": [
      "\u001b[0;36m  File \u001b[0;32m\"<ipython-input-15-f1f0d7368bfb>\"\u001b[0;36m, line \u001b[0;32m4\u001b[0m\n\u001b[0;31m    print roc_auc_score(data['true'], test['Risk'])\u001b[0m\n\u001b[0m                      ^\u001b[0m\n\u001b[0;31mSyntaxError\u001b[0m\u001b[0;31m:\u001b[0m invalid syntax\n"
     ]
    }
   ],
   "source": [
    "test = pd.read_csv('svm2.csv')\n",
    "test = test.sort_values(['Doctor Identifier'], ascending = True)\n",
    "\n",
    "print roc_auc_score(data['true'], test['Risk'])"
   ]
  },
  {
   "cell_type": "code",
   "execution_count": 14,
   "metadata": {},
   "outputs": [
    {
     "data": {
      "text/plain": [
       "0        0.005618\n",
       "1        0.005618\n",
       "2        0.005618\n",
       "3        0.005618\n",
       "4        0.005618\n",
       "5        0.005618\n",
       "6        0.005618\n",
       "7        0.005618\n",
       "8        0.005618\n",
       "9        0.005618\n",
       "10       0.005618\n",
       "11       0.005618\n",
       "12       0.005618\n",
       "13       0.005618\n",
       "14       0.005618\n",
       "15       0.005618\n",
       "16       0.005618\n",
       "17       0.005618\n",
       "18       0.005618\n",
       "19       0.005618\n",
       "20       0.005618\n",
       "21       0.005618\n",
       "22       0.005618\n",
       "23       0.005618\n",
       "24       0.005618\n",
       "25       0.005618\n",
       "26       0.005618\n",
       "27       0.005618\n",
       "28       0.005618\n",
       "29       0.005618\n",
       "           ...   \n",
       "17970   -0.010007\n",
       "17971   -0.010007\n",
       "17972   -0.010007\n",
       "17973   -0.010007\n",
       "17974   -0.010007\n",
       "17975   -0.010007\n",
       "17976   -0.010007\n",
       "17977   -0.010007\n",
       "17978   -0.010007\n",
       "17979   -0.010007\n",
       "17980   -0.010007\n",
       "17981   -0.010007\n",
       "17982   -0.010007\n",
       "17983   -0.010007\n",
       "17984   -0.010007\n",
       "17985   -0.010007\n",
       "17986   -0.010007\n",
       "17987   -0.010007\n",
       "17988   -0.010007\n",
       "17989   -0.010007\n",
       "17990   -0.010007\n",
       "17991   -0.010007\n",
       "17992   -0.010007\n",
       "17993   -0.010007\n",
       "17994   -0.010007\n",
       "17995   -0.010007\n",
       "17996   -0.010007\n",
       "17997   -0.010007\n",
       "17998   -0.010007\n",
       "17999   -0.010007\n",
       "Name: Risk, Length: 18000, dtype: float64"
      ]
     },
     "execution_count": 14,
     "metadata": {},
     "output_type": "execute_result"
    }
   ],
   "source": [
    "test = pd.read_csv('svm2.csv')\n",
    "test['Risk']"
   ]
  },
  {
   "cell_type": "code",
   "execution_count": null,
   "metadata": {
    "collapsed": true
   },
   "outputs": [],
   "source": []
  }
 ],
 "metadata": {
  "kernelspec": {
   "display_name": "Python 3",
   "language": "python",
   "name": "python3"
  },
  "language_info": {
   "codemirror_mode": {
    "name": "ipython",
    "version": 3
   },
   "file_extension": ".py",
   "mimetype": "text/x-python",
   "name": "python",
   "nbconvert_exporter": "python",
   "pygments_lexer": "ipython3",
   "version": "3.6.1"
  }
 },
 "nbformat": 4,
 "nbformat_minor": 2
}
