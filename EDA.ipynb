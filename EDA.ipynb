{
 "cells": [
  {
   "cell_type": "markdown",
   "metadata": {},
   "source": [
    "# Student Data Challenge Jan 2018"
   ]
  },
  {
   "cell_type": "code",
   "execution_count": 1,
   "metadata": {
    "collapsed": true
   },
   "outputs": [],
   "source": [
    "# packages\n",
    "import numpy as np\n",
    "import pandas as pd\n",
    "import matplotlib\n",
    "import matplotlib.pyplot as plt\n",
    "import sklearn.metrics as metrics\n",
    "from sklearn.model_selection import cross_val_score\n",
    "from sklearn import tree\n",
    "from sklearn import ensemble\n",
    "from sklearn.tree import DecisionTreeClassifier\n",
    "from sklearn.ensemble import RandomForestClassifier\n",
    "from sklearn.ensemble import RandomForestRegressor\n",
    "from sklearn.ensemble import AdaBoostClassifier\n",
    "from sklearn.linear_model import LogisticRegressionCV\n",
    "from sklearn import tree\n",
    "from sklearn.metrics import confusion_matrix\n",
    "from sklearn.model_selection import GridSearchCV\n",
    "from sklearn.model_selection import KFold\n",
    "from itertools import product\n",
    "from collections import OrderedDict ### data structure.. for laziness\n",
    "import seaborn as sns\n",
    "import operator\n",
    "%matplotlib inline"
   ]
  },
  {
   "cell_type": "code",
   "execution_count": 2,
   "metadata": {},
   "outputs": [
    {
     "data": {
      "text/html": [
       "<div>\n",
       "<style>\n",
       "    .dataframe thead tr:only-child th {\n",
       "        text-align: right;\n",
       "    }\n",
       "\n",
       "    .dataframe thead th {\n",
       "        text-align: left;\n",
       "    }\n",
       "\n",
       "    .dataframe tbody tr th {\n",
       "        vertical-align: top;\n",
       "    }\n",
       "</style>\n",
       "<table border=\"1\" class=\"dataframe\">\n",
       "  <thead>\n",
       "    <tr style=\"text-align: right;\">\n",
       "      <th></th>\n",
       "      <th>Doctor Identifier</th>\n",
       "      <th>Provider Type</th>\n",
       "      <th>Number of Services</th>\n",
       "      <th>Number of Beneficiaries</th>\n",
       "      <th>Total Submitted Charge Amount</th>\n",
       "      <th>Total Allowed Amount</th>\n",
       "      <th>Total Payment Amount</th>\n",
       "      <th>Total Standardized Payment Amount</th>\n",
       "      <th>Number of Drug Services</th>\n",
       "      <th>Total Drug Submitted Charge Amount</th>\n",
       "      <th>...</th>\n",
       "      <th>Percent Depression</th>\n",
       "      <th>Percent Diabetes</th>\n",
       "      <th>Percent Hyperlipidemia</th>\n",
       "      <th>Percent Hypertension</th>\n",
       "      <th>Percent Ischemic Heart Disease</th>\n",
       "      <th>Percent Osteoporosis</th>\n",
       "      <th>Percent Rheumatoid Arthritis or Osteoarthritis</th>\n",
       "      <th>Percent Schizophrenia or Other Psychotic Disorders</th>\n",
       "      <th>Percent Stroke</th>\n",
       "      <th>Average HCC Risk Score of Beneficiaries</th>\n",
       "    </tr>\n",
       "  </thead>\n",
       "  <tbody>\n",
       "    <tr>\n",
       "      <th>0</th>\n",
       "      <td>450181093</td>\n",
       "      <td>Optometry</td>\n",
       "      <td>491</td>\n",
       "      <td>66</td>\n",
       "      <td>52550.00</td>\n",
       "      <td>45827.70</td>\n",
       "      <td>34211.71</td>\n",
       "      <td>32460.86</td>\n",
       "      <td>0</td>\n",
       "      <td>0.00</td>\n",
       "      <td>...</td>\n",
       "      <td>75.0</td>\n",
       "      <td>18.00</td>\n",
       "      <td>41.0</td>\n",
       "      <td>50.0</td>\n",
       "      <td>3.11</td>\n",
       "      <td>0.83</td>\n",
       "      <td>23.0</td>\n",
       "      <td>18.00</td>\n",
       "      <td>0.65</td>\n",
       "      <td>1.28</td>\n",
       "    </tr>\n",
       "    <tr>\n",
       "      <th>1</th>\n",
       "      <td>375128823</td>\n",
       "      <td>Emergency Medicine</td>\n",
       "      <td>3883</td>\n",
       "      <td>211</td>\n",
       "      <td>165408.00</td>\n",
       "      <td>84216.16</td>\n",
       "      <td>62257.97</td>\n",
       "      <td>62267.51</td>\n",
       "      <td>3304</td>\n",
       "      <td>28918.00</td>\n",
       "      <td>...</td>\n",
       "      <td>42.0</td>\n",
       "      <td>24.00</td>\n",
       "      <td>48.0</td>\n",
       "      <td>56.0</td>\n",
       "      <td>22.00</td>\n",
       "      <td>9.00</td>\n",
       "      <td>38.0</td>\n",
       "      <td>7.00</td>\n",
       "      <td>10.00</td>\n",
       "      <td>1.52</td>\n",
       "    </tr>\n",
       "    <tr>\n",
       "      <th>2</th>\n",
       "      <td>429379427</td>\n",
       "      <td>CRNA</td>\n",
       "      <td>3103</td>\n",
       "      <td>632</td>\n",
       "      <td>531584.25</td>\n",
       "      <td>230479.28</td>\n",
       "      <td>174262.00</td>\n",
       "      <td>167305.78</td>\n",
       "      <td>1016</td>\n",
       "      <td>32044.25</td>\n",
       "      <td>...</td>\n",
       "      <td>24.0</td>\n",
       "      <td>19.00</td>\n",
       "      <td>44.0</td>\n",
       "      <td>57.0</td>\n",
       "      <td>25.00</td>\n",
       "      <td>12.00</td>\n",
       "      <td>67.0</td>\n",
       "      <td>4.00</td>\n",
       "      <td>7.00</td>\n",
       "      <td>1.11</td>\n",
       "    </tr>\n",
       "    <tr>\n",
       "      <th>3</th>\n",
       "      <td>993555030</td>\n",
       "      <td>Podiatry</td>\n",
       "      <td>43</td>\n",
       "      <td>42</td>\n",
       "      <td>2935.00</td>\n",
       "      <td>2932.84</td>\n",
       "      <td>1652.31</td>\n",
       "      <td>4208.75</td>\n",
       "      <td>0</td>\n",
       "      <td>0.00</td>\n",
       "      <td>...</td>\n",
       "      <td>31.0</td>\n",
       "      <td>0.89</td>\n",
       "      <td>62.0</td>\n",
       "      <td>57.0</td>\n",
       "      <td>36.00</td>\n",
       "      <td>0.27</td>\n",
       "      <td>38.0</td>\n",
       "      <td>0.44</td>\n",
       "      <td>0.25</td>\n",
       "      <td>1.00</td>\n",
       "    </tr>\n",
       "    <tr>\n",
       "      <th>4</th>\n",
       "      <td>786413532</td>\n",
       "      <td>Licensed Clinical Social Worker</td>\n",
       "      <td>151</td>\n",
       "      <td>34</td>\n",
       "      <td>13118.00</td>\n",
       "      <td>3991.45</td>\n",
       "      <td>3911.61</td>\n",
       "      <td>3402.45</td>\n",
       "      <td>0</td>\n",
       "      <td>0.00</td>\n",
       "      <td>...</td>\n",
       "      <td>56.0</td>\n",
       "      <td>75.00</td>\n",
       "      <td>75.0</td>\n",
       "      <td>75.0</td>\n",
       "      <td>41.00</td>\n",
       "      <td>0.05</td>\n",
       "      <td>56.0</td>\n",
       "      <td>0.00</td>\n",
       "      <td>0.03</td>\n",
       "      <td>1.57</td>\n",
       "    </tr>\n",
       "  </tbody>\n",
       "</table>\n",
       "<p>5 rows × 31 columns</p>\n",
       "</div>"
      ],
      "text/plain": [
       "   Doctor Identifier                    Provider Type  Number of Services  \\\n",
       "0          450181093                        Optometry                 491   \n",
       "1          375128823               Emergency Medicine                3883   \n",
       "2          429379427                             CRNA                3103   \n",
       "3          993555030                         Podiatry                  43   \n",
       "4          786413532  Licensed Clinical Social Worker                 151   \n",
       "\n",
       "   Number of Beneficiaries  Total Submitted Charge Amount  \\\n",
       "0                       66                       52550.00   \n",
       "1                      211                      165408.00   \n",
       "2                      632                      531584.25   \n",
       "3                       42                        2935.00   \n",
       "4                       34                       13118.00   \n",
       "\n",
       "   Total Allowed Amount  Total Payment Amount  \\\n",
       "0              45827.70              34211.71   \n",
       "1              84216.16              62257.97   \n",
       "2             230479.28             174262.00   \n",
       "3               2932.84               1652.31   \n",
       "4               3991.45               3911.61   \n",
       "\n",
       "   Total Standardized Payment Amount  Number of Drug Services  \\\n",
       "0                           32460.86                        0   \n",
       "1                           62267.51                     3304   \n",
       "2                          167305.78                     1016   \n",
       "3                            4208.75                        0   \n",
       "4                            3402.45                        0   \n",
       "\n",
       "   Total Drug Submitted Charge Amount  \\\n",
       "0                                0.00   \n",
       "1                            28918.00   \n",
       "2                            32044.25   \n",
       "3                                0.00   \n",
       "4                                0.00   \n",
       "\n",
       "                     ...                     Percent Depression   \\\n",
       "0                    ...                                    75.0   \n",
       "1                    ...                                    42.0   \n",
       "2                    ...                                    24.0   \n",
       "3                    ...                                    31.0   \n",
       "4                    ...                                    56.0   \n",
       "\n",
       "   Percent Diabetes   Percent Hyperlipidemia   Percent Hypertension   \\\n",
       "0              18.00                     41.0                   50.0   \n",
       "1              24.00                     48.0                   56.0   \n",
       "2              19.00                     44.0                   57.0   \n",
       "3               0.89                     62.0                   57.0   \n",
       "4              75.00                     75.0                   75.0   \n",
       "\n",
       "   Percent Ischemic Heart Disease   Percent Osteoporosis   \\\n",
       "0                             3.11                   0.83   \n",
       "1                            22.00                   9.00   \n",
       "2                            25.00                  12.00   \n",
       "3                            36.00                   0.27   \n",
       "4                            41.00                   0.05   \n",
       "\n",
       "   Percent Rheumatoid Arthritis or Osteoarthritis   \\\n",
       "0                                             23.0   \n",
       "1                                             38.0   \n",
       "2                                             67.0   \n",
       "3                                             38.0   \n",
       "4                                             56.0   \n",
       "\n",
       "   Percent Schizophrenia or Other Psychotic Disorders   Percent Stroke   \\\n",
       "0                                              18.00               0.65   \n",
       "1                                               7.00              10.00   \n",
       "2                                               4.00               7.00   \n",
       "3                                               0.44               0.25   \n",
       "4                                               0.00               0.03   \n",
       "\n",
       "   Average HCC Risk Score of Beneficiaries   \n",
       "0                                      1.28  \n",
       "1                                      1.52  \n",
       "2                                      1.11  \n",
       "3                                      1.00  \n",
       "4                                      1.57  \n",
       "\n",
       "[5 rows x 31 columns]"
      ]
     },
     "execution_count": 2,
     "metadata": {},
     "output_type": "execute_result"
    }
   ],
   "source": [
    "df = pd.read_csv('X_train.csv')\n",
    "df.head()"
   ]
  },
  {
   "cell_type": "markdown",
   "metadata": {},
   "source": [
    "### Sort out the data!"
   ]
  },
  {
   "cell_type": "code",
   "execution_count": 3,
   "metadata": {},
   "outputs": [
    {
     "data": {
      "text/plain": [
       "Doctor Identifier                                        int64\n",
       "Provider Type                                           object\n",
       "Number of Services                                       int64\n",
       "Number of Beneficiaries                                  int64\n",
       "Total Submitted Charge Amount                          float64\n",
       "Total Allowed Amount                                   float64\n",
       "Total Payment Amount                                   float64\n",
       "Total Standardized Payment Amount                      float64\n",
       "Number of Drug Services                                  int64\n",
       "Total Drug Submitted Charge Amount                     float64\n",
       "Total Drug Allowed Amount                              float64\n",
       "Total Drug Payment Amount                              float64\n",
       "Total Drug Standardized Payment Amount                 float64\n",
       "Number of Medical Services                               int64\n",
       "Percent Atrial Fibrillation                            float64\n",
       "Percent Alzheimer’s Disease or Dementia                float64\n",
       "Percent Asthma                                         float64\n",
       "Percent Cancer                                         float64\n",
       "Percent Heart Failure                                  float64\n",
       "Percent Chronic Kidney Disease                         float64\n",
       "Percent Chronic Obstructive Pulmonary Disease          float64\n",
       "Percent Depression                                     float64\n",
       "Percent Diabetes                                       float64\n",
       "Percent Hyperlipidemia                                 float64\n",
       "Percent Hypertension                                   float64\n",
       "Percent Ischemic Heart Disease                         float64\n",
       "Percent Osteoporosis                                   float64\n",
       "Percent Rheumatoid Arthritis or Osteoarthritis         float64\n",
       "Percent Schizophrenia or Other Psychotic Disorders     float64\n",
       "Percent Stroke                                         float64\n",
       "Average HCC Risk Score of Beneficiaries                float64\n",
       "dtype: object"
      ]
     },
     "execution_count": 3,
     "metadata": {},
     "output_type": "execute_result"
    }
   ],
   "source": [
    "df.dtypes"
   ]
  },
  {
   "cell_type": "code",
   "execution_count": 4,
   "metadata": {},
   "outputs": [
    {
     "data": {
      "text/plain": [
       "Index(['Doctor Identifier', 'Provider Type', 'Number of Services',\n",
       "       'Number of Beneficiaries', 'Total Submitted Charge Amount',\n",
       "       'Total Allowed Amount', 'Total Payment Amount',\n",
       "       'Total Standardized Payment Amount', 'Number of Drug Services',\n",
       "       'Total Drug Submitted Charge Amount', 'Total Drug Allowed Amount ',\n",
       "       'Total Drug Payment Amount ', 'Total Drug Standardized Payment Amount',\n",
       "       'Number of Medical Services', 'Percent Atrial Fibrillation',\n",
       "       'Percent Alzheimer’s Disease or Dementia ', 'Percent Asthma ',\n",
       "       'Percent Cancer ', 'Percent Heart Failure ',\n",
       "       'Percent Chronic Kidney Disease',\n",
       "       'Percent Chronic Obstructive Pulmonary Disease', 'Percent Depression ',\n",
       "       'Percent Diabetes ', 'Percent Hyperlipidemia ', 'Percent Hypertension ',\n",
       "       'Percent Ischemic Heart Disease ', 'Percent Osteoporosis ',\n",
       "       'Percent Rheumatoid Arthritis or Osteoarthritis ',\n",
       "       'Percent Schizophrenia or Other Psychotic Disorders ',\n",
       "       'Percent Stroke ', 'Average HCC Risk Score of Beneficiaries '],\n",
       "      dtype='object')"
      ]
     },
     "execution_count": 4,
     "metadata": {},
     "output_type": "execute_result"
    }
   ],
   "source": [
    "df.columns"
   ]
  },
  {
   "cell_type": "code",
   "execution_count": 5,
   "metadata": {
    "scrolled": true
   },
   "outputs": [
    {
     "name": "stderr",
     "output_type": "stream",
     "text": [
      "/Users/kate_zym/anaconda/lib/python3.6/site-packages/ipykernel_launcher.py:2: SettingWithCopyWarning: \n",
      "A value is trying to be set on a copy of a slice from a DataFrame\n",
      "\n",
      "See the caveats in the documentation: http://pandas.pydata.org/pandas-docs/stable/indexing.html#indexing-view-versus-copy\n",
      "  \n"
     ]
    }
   ],
   "source": [
    "inds_NaN = df['Number of Drug Services'] == 0\n",
    "df['Number of Drug Services'][inds_NaN] = -1"
   ]
  },
  {
   "cell_type": "code",
   "execution_count": 6,
   "metadata": {
    "scrolled": true
   },
   "outputs": [
    {
     "data": {
      "text/html": [
       "<div>\n",
       "<style>\n",
       "    .dataframe thead tr:only-child th {\n",
       "        text-align: right;\n",
       "    }\n",
       "\n",
       "    .dataframe thead th {\n",
       "        text-align: left;\n",
       "    }\n",
       "\n",
       "    .dataframe tbody tr th {\n",
       "        vertical-align: top;\n",
       "    }\n",
       "</style>\n",
       "<table border=\"1\" class=\"dataframe\">\n",
       "  <thead>\n",
       "    <tr style=\"text-align: right;\">\n",
       "      <th></th>\n",
       "      <th>Doctor Identifier</th>\n",
       "      <th>Number of Services</th>\n",
       "      <th>Number of Beneficiaries</th>\n",
       "      <th>Total Submitted Charge Amount</th>\n",
       "      <th>Total Allowed Amount</th>\n",
       "      <th>Total Payment Amount</th>\n",
       "      <th>Total Standardized Payment Amount</th>\n",
       "      <th>Number of Drug Services</th>\n",
       "      <th>Total Drug Submitted Charge Amount</th>\n",
       "      <th>Total Drug Allowed Amount</th>\n",
       "      <th>...</th>\n",
       "      <th>Provider Type_Registered Dietician/Nutrition Professional</th>\n",
       "      <th>Provider Type_Rheumatology</th>\n",
       "      <th>Provider Type_Sleep Medicine</th>\n",
       "      <th>Provider Type_Speech Language Pathologist</th>\n",
       "      <th>Provider Type_Sports Medicine</th>\n",
       "      <th>Provider Type_Surgical Oncology</th>\n",
       "      <th>Provider Type_Thoracic Surgery</th>\n",
       "      <th>Provider Type_Unknown Physician Specialty Code</th>\n",
       "      <th>Provider Type_Urology</th>\n",
       "      <th>Provider Type_Vascular Surgery</th>\n",
       "    </tr>\n",
       "  </thead>\n",
       "  <tbody>\n",
       "    <tr>\n",
       "      <th>0</th>\n",
       "      <td>450181093</td>\n",
       "      <td>491</td>\n",
       "      <td>66</td>\n",
       "      <td>52550.00</td>\n",
       "      <td>45827.70</td>\n",
       "      <td>34211.71</td>\n",
       "      <td>32460.86</td>\n",
       "      <td>-1</td>\n",
       "      <td>0.00</td>\n",
       "      <td>0.00</td>\n",
       "      <td>...</td>\n",
       "      <td>0</td>\n",
       "      <td>0</td>\n",
       "      <td>0</td>\n",
       "      <td>0</td>\n",
       "      <td>0</td>\n",
       "      <td>0</td>\n",
       "      <td>0</td>\n",
       "      <td>0</td>\n",
       "      <td>0</td>\n",
       "      <td>0</td>\n",
       "    </tr>\n",
       "    <tr>\n",
       "      <th>1</th>\n",
       "      <td>375128823</td>\n",
       "      <td>3883</td>\n",
       "      <td>211</td>\n",
       "      <td>165408.00</td>\n",
       "      <td>84216.16</td>\n",
       "      <td>62257.97</td>\n",
       "      <td>62267.51</td>\n",
       "      <td>3304</td>\n",
       "      <td>28918.00</td>\n",
       "      <td>18847.34</td>\n",
       "      <td>...</td>\n",
       "      <td>0</td>\n",
       "      <td>0</td>\n",
       "      <td>0</td>\n",
       "      <td>0</td>\n",
       "      <td>0</td>\n",
       "      <td>0</td>\n",
       "      <td>0</td>\n",
       "      <td>0</td>\n",
       "      <td>0</td>\n",
       "      <td>0</td>\n",
       "    </tr>\n",
       "    <tr>\n",
       "      <th>2</th>\n",
       "      <td>429379427</td>\n",
       "      <td>3103</td>\n",
       "      <td>632</td>\n",
       "      <td>531584.25</td>\n",
       "      <td>230479.28</td>\n",
       "      <td>174262.00</td>\n",
       "      <td>167305.78</td>\n",
       "      <td>1016</td>\n",
       "      <td>32044.25</td>\n",
       "      <td>22049.04</td>\n",
       "      <td>...</td>\n",
       "      <td>0</td>\n",
       "      <td>0</td>\n",
       "      <td>0</td>\n",
       "      <td>0</td>\n",
       "      <td>0</td>\n",
       "      <td>0</td>\n",
       "      <td>0</td>\n",
       "      <td>0</td>\n",
       "      <td>0</td>\n",
       "      <td>0</td>\n",
       "    </tr>\n",
       "    <tr>\n",
       "      <th>3</th>\n",
       "      <td>993555030</td>\n",
       "      <td>43</td>\n",
       "      <td>42</td>\n",
       "      <td>2935.00</td>\n",
       "      <td>2932.84</td>\n",
       "      <td>1652.31</td>\n",
       "      <td>4208.75</td>\n",
       "      <td>-1</td>\n",
       "      <td>0.00</td>\n",
       "      <td>0.00</td>\n",
       "      <td>...</td>\n",
       "      <td>0</td>\n",
       "      <td>0</td>\n",
       "      <td>0</td>\n",
       "      <td>0</td>\n",
       "      <td>0</td>\n",
       "      <td>0</td>\n",
       "      <td>0</td>\n",
       "      <td>0</td>\n",
       "      <td>0</td>\n",
       "      <td>0</td>\n",
       "    </tr>\n",
       "    <tr>\n",
       "      <th>4</th>\n",
       "      <td>786413532</td>\n",
       "      <td>151</td>\n",
       "      <td>34</td>\n",
       "      <td>13118.00</td>\n",
       "      <td>3991.45</td>\n",
       "      <td>3911.61</td>\n",
       "      <td>3402.45</td>\n",
       "      <td>-1</td>\n",
       "      <td>0.00</td>\n",
       "      <td>0.00</td>\n",
       "      <td>...</td>\n",
       "      <td>0</td>\n",
       "      <td>0</td>\n",
       "      <td>0</td>\n",
       "      <td>0</td>\n",
       "      <td>0</td>\n",
       "      <td>0</td>\n",
       "      <td>0</td>\n",
       "      <td>0</td>\n",
       "      <td>0</td>\n",
       "      <td>0</td>\n",
       "    </tr>\n",
       "  </tbody>\n",
       "</table>\n",
       "<p>5 rows × 114 columns</p>\n",
       "</div>"
      ],
      "text/plain": [
       "   Doctor Identifier  Number of Services  Number of Beneficiaries  \\\n",
       "0          450181093                 491                       66   \n",
       "1          375128823                3883                      211   \n",
       "2          429379427                3103                      632   \n",
       "3          993555030                  43                       42   \n",
       "4          786413532                 151                       34   \n",
       "\n",
       "   Total Submitted Charge Amount  Total Allowed Amount  Total Payment Amount  \\\n",
       "0                       52550.00              45827.70              34211.71   \n",
       "1                      165408.00              84216.16              62257.97   \n",
       "2                      531584.25             230479.28             174262.00   \n",
       "3                        2935.00               2932.84               1652.31   \n",
       "4                       13118.00               3991.45               3911.61   \n",
       "\n",
       "   Total Standardized Payment Amount  Number of Drug Services  \\\n",
       "0                           32460.86                       -1   \n",
       "1                           62267.51                     3304   \n",
       "2                          167305.78                     1016   \n",
       "3                            4208.75                       -1   \n",
       "4                            3402.45                       -1   \n",
       "\n",
       "   Total Drug Submitted Charge Amount  Total Drug Allowed Amount   \\\n",
       "0                                0.00                        0.00   \n",
       "1                            28918.00                    18847.34   \n",
       "2                            32044.25                    22049.04   \n",
       "3                                0.00                        0.00   \n",
       "4                                0.00                        0.00   \n",
       "\n",
       "                ...                \\\n",
       "0               ...                 \n",
       "1               ...                 \n",
       "2               ...                 \n",
       "3               ...                 \n",
       "4               ...                 \n",
       "\n",
       "   Provider Type_Registered Dietician/Nutrition Professional  \\\n",
       "0                                                  0           \n",
       "1                                                  0           \n",
       "2                                                  0           \n",
       "3                                                  0           \n",
       "4                                                  0           \n",
       "\n",
       "   Provider Type_Rheumatology  Provider Type_Sleep Medicine  \\\n",
       "0                           0                             0   \n",
       "1                           0                             0   \n",
       "2                           0                             0   \n",
       "3                           0                             0   \n",
       "4                           0                             0   \n",
       "\n",
       "   Provider Type_Speech Language Pathologist  Provider Type_Sports Medicine  \\\n",
       "0                                          0                              0   \n",
       "1                                          0                              0   \n",
       "2                                          0                              0   \n",
       "3                                          0                              0   \n",
       "4                                          0                              0   \n",
       "\n",
       "   Provider Type_Surgical Oncology  Provider Type_Thoracic Surgery  \\\n",
       "0                                0                               0   \n",
       "1                                0                               0   \n",
       "2                                0                               0   \n",
       "3                                0                               0   \n",
       "4                                0                               0   \n",
       "\n",
       "   Provider Type_Unknown Physician Specialty Code  Provider Type_Urology  \\\n",
       "0                                               0                      0   \n",
       "1                                               0                      0   \n",
       "2                                               0                      0   \n",
       "3                                               0                      0   \n",
       "4                                               0                      0   \n",
       "\n",
       "   Provider Type_Vascular Surgery  \n",
       "0                               0  \n",
       "1                               0  \n",
       "2                               0  \n",
       "3                               0  \n",
       "4                               0  \n",
       "\n",
       "[5 rows x 114 columns]"
      ]
     },
     "execution_count": 6,
     "metadata": {},
     "output_type": "execute_result"
    }
   ],
   "source": [
    "# one hot encode the provider type\n",
    "# np.unique(df['Provider Type'].values).size\n",
    "# 30 + 84\n",
    "\n",
    "df_ohe = pd.get_dummies(df, 'Provider Type')\n",
    "df_ohe.head()"
   ]
  },
  {
   "cell_type": "code",
   "execution_count": 7,
   "metadata": {
    "scrolled": true
   },
   "outputs": [
    {
     "data": {
      "image/png": "[encoded data removed]",
      "text/plain": [
       "<matplotlib.figure.Figure at 0x10f778898>"
      ]
     },
     "metadata": {},
     "output_type": "display_data"
    }
   ],
   "source": [
    "plt.hist(df_ohe['Total Allowed Amount'], bins = 200);"
   ]
  },
  {
   "cell_type": "code",
   "execution_count": 8,
   "metadata": {},
   "outputs": [
    {
     "data": {
      "text/plain": [
       "(18000, 114)"
      ]
     },
     "execution_count": 8,
     "metadata": {},
     "output_type": "execute_result"
    }
   ],
   "source": [
    "df_ohe.shape"
   ]
  },
  {
   "cell_type": "code",
   "execution_count": 9,
   "metadata": {},
   "outputs": [
    {
     "ename": "NameError",
     "evalue": "name 'PolynomialFeatures' is not defined",
     "output_type": "error",
     "traceback": [
      "\u001b[0;31m---------------------------------------------------------------------------\u001b[0m",
      "\u001b[0;31mNameError\u001b[0m                                 Traceback (most recent call last)",
      "\u001b[0;32m<ipython-input-9-5d6455098756>\u001b[0m in \u001b[0;36m<module>\u001b[0;34m()\u001b[0m\n\u001b[0;32m----> 1\u001b[0;31m \u001b[0mgen_cross_terms\u001b[0m \u001b[0;34m=\u001b[0m \u001b[0mPolynomialFeatures\u001b[0m\u001b[0;34m(\u001b[0m\u001b[0mdegree\u001b[0m\u001b[0;34m=\u001b[0m\u001b[0;36m0\u001b[0m\u001b[0;34m,\u001b[0m \u001b[0minteraction_only\u001b[0m\u001b[0;34m=\u001b[0m\u001b[0;32mFalse\u001b[0m\u001b[0;34m)\u001b[0m\u001b[0;34m\u001b[0m\u001b[0m\n\u001b[0m",
      "\u001b[0;31mNameError\u001b[0m: name 'PolynomialFeatures' is not defined"
     ]
    }
   ],
   "source": [
    "gen_cross_terms = PolynomialFeatures(degree=0, interaction_only=False)"
   ]
  },
  {
   "cell_type": "code",
   "execution_count": 10,
   "metadata": {},
   "outputs": [
    {
     "data": {
      "text/plain": [
       "Doctor Identifier                                        int64\n",
       "Provider Type                                           object\n",
       "Number of Services                                       int64\n",
       "Number of Beneficiaries                                  int64\n",
       "Total Submitted Charge Amount                          float64\n",
       "Total Allowed Amount                                   float64\n",
       "Total Payment Amount                                   float64\n",
       "Total Standardized Payment Amount                      float64\n",
       "Number of Drug Services                                  int64\n",
       "Total Drug Submitted Charge Amount                     float64\n",
       "Total Drug Allowed Amount                              float64\n",
       "Total Drug Payment Amount                              float64\n",
       "Total Drug Standardized Payment Amount                 float64\n",
       "Number of Medical Services                               int64\n",
       "Percent Atrial Fibrillation                            float64\n",
       "Percent Alzheimer’s Disease or Dementia                float64\n",
       "Percent Asthma                                         float64\n",
       "Percent Cancer                                         float64\n",
       "Percent Heart Failure                                  float64\n",
       "Percent Chronic Kidney Disease                         float64\n",
       "Percent Chronic Obstructive Pulmonary Disease          float64\n",
       "Percent Depression                                     float64\n",
       "Percent Diabetes                                       float64\n",
       "Percent Hyperlipidemia                                 float64\n",
       "Percent Hypertension                                   float64\n",
       "Percent Ischemic Heart Disease                         float64\n",
       "Percent Osteoporosis                                   float64\n",
       "Percent Rheumatoid Arthritis or Osteoarthritis         float64\n",
       "Percent Schizophrenia or Other Psychotic Disorders     float64\n",
       "Percent Stroke                                         float64\n",
       "Average HCC Risk Score of Beneficiaries                float64\n",
       "dtype: object"
      ]
     },
     "execution_count": 10,
     "metadata": {},
     "output_type": "execute_result"
    }
   ],
   "source": [
    "df.dtypes"
   ]
  },
  {
   "cell_type": "code",
   "execution_count": 11,
   "metadata": {},
   "outputs": [],
   "source": [
    "# add some new features (average per number of services)\n",
    "\n",
    "# per Service\n",
    "df_ohe['Submitted Charge per Service'] = pd.Series(df['Total Submitted Charge Amount'].values/ df['Number of Services'].values)\n",
    "df_ohe['Allowed Amount per Service'] = pd.Series(df['Total Allowed Amount'].values/df['Number of Services'])\n",
    "df_ohe['Payment Amount per Service'] = pd.Series(df['Total Payment Amount'].values/df['Number of Services'])\n",
    "df_ohe['Drug Submitted Charge Amount per Service'] = pd.Series(df['Total Submitted Charge Amount']/df['Number of Services'])\n",
    "df_ohe['Drug Allowed Amount per Service'] = pd.Series(df['Total Drug Allowed Amount ']/df['Number of Services'])\n",
    "df_ohe['Drug Payment Amount per Service'] = pd.Series(df['Total Drug Payment Amount ']/df['Number of Services'])\n",
    "\n",
    "\n",
    "# per beneficianry\n",
    "\n",
    "df_ohe['Submitted Charge per Beneficiary'] = pd.Series(df['Total Submitted Charge Amount'].values/ df['Number of Beneficiaries'].values)\n",
    "df_ohe['Allowed Amount per Beneficiary'] = pd.Series(df['Total Allowed Amount'].values/df['Number of Beneficiaries'])\n",
    "df_ohe['Payment Amount per Beneficiary'] = pd.Series(df['Total Payment Amount'].values/df['Number of Beneficiaries'])\n",
    "df_ohe['Drug Submitted Charge Amount per Beneficiary'] = pd.Series(df['Total Submitted Charge Amount']/df['Number of Beneficiaries'])\n",
    "df_ohe['Drug Allowed Amount per Beneficiary'] = pd.Series(df['Total Drug Allowed Amount ']/df['Number of Beneficiaries'])\n",
    "df_ohe['Drug Payment Amount per Beneficiary'] = pd.Series(df['Total Drug Payment Amount ']/df['Number of Beneficiaries'])\n",
    "\n",
    "# per Drug\n",
    "df_ohe['Submitted Charge per Drug'] = pd.Series(df['Total Submitted Charge Amount'].values/ df['Number of Drug Services'].values)\n",
    "df_ohe['Allowed Amount per Drug'] = pd.Series(df['Total Allowed Amount'].values/df['Number of Drug Services'])\n",
    "df_ohe['Payment Amount per Drug'] = pd.Series(df['Total Payment Amount'].values/df['Number of Drug Services'])\n",
    "df_ohe['Drug Submitted Charge Amount per Drug'] = pd.Series(df['Total Submitted Charge Amount']/df['Number of Drug Services'])\n",
    "df_ohe['Drug Allowed Amount per Drug'] = pd.Series(df['Total Drug Allowed Amount ']/df['Number of Drug Services'])\n",
    "df_ohe['Drug Payment Amount per Drug'] = pd.Series(df['Total Drug Payment Amount ']/df['Number of Drug Services'])\n",
    "\n",
    "# 6*3 = 18 new features"
   ]
  },
  {
   "cell_type": "code",
   "execution_count": 12,
   "metadata": {},
   "outputs": [
    {
     "data": {
      "text/plain": [
       "(18000, 132)"
      ]
     },
     "execution_count": 12,
     "metadata": {},
     "output_type": "execute_result"
    }
   ],
   "source": [
    "df_ohe.shape"
   ]
  },
  {
   "cell_type": "code",
   "execution_count": 13,
   "metadata": {},
   "outputs": [
    {
     "data": {
      "text/plain": [
       "'Provider Type_Vascular Surgery'"
      ]
     },
     "execution_count": 13,
     "metadata": {},
     "output_type": "execute_result"
    }
   ],
   "source": [
    "df_ohe.columns[113]"
   ]
  },
  {
   "cell_type": "code",
   "execution_count": 14,
   "metadata": {
    "scrolled": false
   },
   "outputs": [
    {
     "name": "stdout",
     "output_type": "stream",
     "text": [
      "0 Doctor Identifier\n",
      "1 Number of Services\n",
      "2 Number of Beneficiaries\n",
      "3 Total Submitted Charge Amount\n",
      "4 Total Allowed Amount\n",
      "5 Total Payment Amount\n",
      "6 Total Standardized Payment Amount\n",
      "7 Number of Drug Services\n",
      "8 Total Drug Submitted Charge Amount\n",
      "9 Total Drug Allowed Amount \n",
      "10 Total Drug Payment Amount \n",
      "11 Total Drug Standardized Payment Amount\n",
      "12 Number of Medical Services\n",
      "13 Percent Atrial Fibrillation\n",
      "14 Percent Alzheimer’s Disease or Dementia \n",
      "15 Percent Asthma \n",
      "16 Percent Cancer \n",
      "17 Percent Heart Failure \n",
      "18 Percent Chronic Kidney Disease\n",
      "19 Percent Chronic Obstructive Pulmonary Disease\n",
      "20 Percent Depression \n",
      "21 Percent Diabetes \n",
      "22 Percent Hyperlipidemia \n",
      "23 Percent Hypertension \n",
      "24 Percent Ischemic Heart Disease \n",
      "25 Percent Osteoporosis \n",
      "26 Percent Rheumatoid Arthritis or Osteoarthritis \n",
      "27 Percent Schizophrenia or Other Psychotic Disorders \n",
      "28 Percent Stroke \n",
      "29 Average HCC Risk Score of Beneficiaries \n",
      "30 Provider Type_Addiction Medicine\n",
      "31 Provider Type_All Other Suppliers\n",
      "32 Provider Type_Allergy/Immunology\n",
      "33 Provider Type_Ambulance Service Supplier\n",
      "34 Provider Type_Ambulatory Surgical Center\n",
      "35 Provider Type_Anesthesiologist Assistants\n",
      "36 Provider Type_Anesthesiology\n",
      "37 Provider Type_Audiologist (billing independently)\n",
      "38 Provider Type_CRNA\n",
      "39 Provider Type_Cardiac Electrophysiology\n",
      "40 Provider Type_Cardiac Surgery\n",
      "41 Provider Type_Cardiology\n",
      "42 Provider Type_Centralized Flu\n",
      "43 Provider Type_Certified Clinical Nurse Specialist\n",
      "44 Provider Type_Certified Nurse Midwife\n",
      "45 Provider Type_Chiropractic\n",
      "46 Provider Type_Clinical Laboratory\n",
      "47 Provider Type_Clinical Psychologist\n",
      "48 Provider Type_Colorectal Surgery (formerly proctology)\n",
      "49 Provider Type_Critical Care (Intensivists)\n",
      "50 Provider Type_Dermatology\n",
      "51 Provider Type_Diagnostic Radiology\n",
      "52 Provider Type_Emergency Medicine\n",
      "53 Provider Type_Endocrinology\n",
      "54 Provider Type_Family Practice\n",
      "55 Provider Type_Gastroenterology\n",
      "56 Provider Type_General Practice\n",
      "57 Provider Type_General Surgery\n",
      "58 Provider Type_Geriatric Medicine\n",
      "59 Provider Type_Geriatric Psychiatry\n",
      "60 Provider Type_Gynecological/Oncology\n",
      "61 Provider Type_Hand Surgery\n",
      "62 Provider Type_Hematology\n",
      "63 Provider Type_Hematology/Oncology\n",
      "64 Provider Type_Hospice and Palliative Care\n",
      "65 Provider Type_Independent Diagnostic Testing Facility\n",
      "66 Provider Type_Infectious Disease\n",
      "67 Provider Type_Internal Medicine\n",
      "68 Provider Type_Interventional Cardiology\n",
      "69 Provider Type_Interventional Pain Management\n",
      "70 Provider Type_Interventional Radiology\n",
      "71 Provider Type_Licensed Clinical Social Worker\n",
      "72 Provider Type_Mammographic Screening Center\n",
      "73 Provider Type_Mass Immunization Roster Biller\n",
      "74 Provider Type_Maxillofacial Surgery\n",
      "75 Provider Type_Medical Oncology\n",
      "76 Provider Type_Multispecialty Clinic/Group Practice\n",
      "77 Provider Type_Nephrology\n",
      "78 Provider Type_Neurology\n",
      "79 Provider Type_Neurosurgery\n",
      "80 Provider Type_Nuclear Medicine\n",
      "81 Provider Type_Nurse Practitioner\n",
      "82 Provider Type_Obstetrics/Gynecology\n",
      "83 Provider Type_Occupational therapist\n",
      "84 Provider Type_Ophthalmology\n",
      "85 Provider Type_Optometry\n",
      "86 Provider Type_Oral Surgery (dentists only)\n",
      "87 Provider Type_Orthopedic Surgery\n",
      "88 Provider Type_Osteopathic Manipulative Medicine\n",
      "89 Provider Type_Otolaryngology\n",
      "90 Provider Type_Pain Management\n",
      "91 Provider Type_Pathology\n",
      "92 Provider Type_Pediatric Medicine\n",
      "93 Provider Type_Physical Medicine and Rehabilitation\n",
      "94 Provider Type_Physical Therapist\n",
      "95 Provider Type_Physician Assistant\n",
      "96 Provider Type_Plastic and Reconstructive Surgery\n",
      "97 Provider Type_Podiatry\n",
      "98 Provider Type_Portable X-ray\n",
      "99 Provider Type_Preventive Medicine\n",
      "100 Provider Type_Psychiatry\n",
      "101 Provider Type_Public Health Welfare Agency\n",
      "102 Provider Type_Pulmonary Disease\n",
      "103 Provider Type_Radiation Oncology\n",
      "104 Provider Type_Registered Dietician/Nutrition Professional\n",
      "105 Provider Type_Rheumatology\n",
      "106 Provider Type_Sleep Medicine\n",
      "107 Provider Type_Speech Language Pathologist\n",
      "108 Provider Type_Sports Medicine\n",
      "109 Provider Type_Surgical Oncology\n",
      "110 Provider Type_Thoracic Surgery\n",
      "111 Provider Type_Unknown Physician Specialty Code\n",
      "112 Provider Type_Urology\n",
      "113 Provider Type_Vascular Surgery\n",
      "114 Submitted Charge per Service\n",
      "115 Allowed Amount per Service\n",
      "116 Payment Amount per Service\n",
      "117 Drug Submitted Charge Amount per Service\n",
      "118 Drug Allowed Amount per Service\n",
      "119 Drug Payment Amount per Service\n",
      "120 Submitted Charge per Beneficiary\n",
      "121 Allowed Amount per Beneficiary\n",
      "122 Payment Amount per Beneficiary\n",
      "123 Drug Submitted Charge Amount per Beneficiary\n",
      "124 Drug Allowed Amount per Beneficiary\n",
      "125 Drug Payment Amount per Beneficiary\n",
      "126 Submitted Charge per Drug\n",
      "127 Allowed Amount per Drug\n",
      "128 Payment Amount per Drug\n",
      "129 Drug Submitted Charge Amount per Drug\n",
      "130 Drug Allowed Amount per Drug\n",
      "131 Drug Payment Amount per Drug\n"
     ]
    }
   ],
   "source": [
    "for ind,col in enumerate(df_ohe.columns):\n",
    "    print(ind, col)"
   ]
  },
  {
   "cell_type": "code",
   "execution_count": 15,
   "metadata": {},
   "outputs": [
    {
     "name": "stdout",
     "output_type": "stream",
     "text": [
      "[0 0 0 0 0 0 0 0 0 0 0 0 0 0 0 0 0 0 0 0 0 0 0 0 0 0 0 0 0 0 0 0 0 0 0 0 0\n",
      " 0 0 0 0 0 0 0 0 0 0 0 0 0 0 0 0 0 0 0 0 0 0 0 0 0 0 0 0 0 0 0 0 0 0 0 0 0\n",
      " 0 0 0 0 0 0 0 0 0 0 0 0 0 0 0 0 0 0 0 0 0 0 0 0 0 0 0 0 0 0 0 0 0 0 0 0 0\n",
      " 0 0 0 0 0 0 0 0 0 0 0 0 0 0 0 0 0 0 0 0 0]\n",
      "[0 0 0 0 0 0 0 0 0 0 0 0 0 0 0 0 0 0 0 0 0 0 0 0 0 0 0 0 0 0 0 0 0 0 0 0 0\n",
      " 0 0 0 0 0 0 0 0 0 0 0 0 0 0 0 0 0 0 0 0 0 0 0 0 0 0 0 0 0 0 0 0 0 0 0 0 0\n",
      " 0 0 0 0 0 0 0 0 0 0 0 0 0 0 0 0 0 0 0 0 0 0 0 0 0 0 0 0 0 0 0 0 0 0 0 0 0\n",
      " 0 0 0 0 0 0 0 0 0 0 0 0 0 0 0 0 0 0 0 0 0]\n"
     ]
    }
   ],
   "source": [
    "# remove NaN\n",
    "\n",
    "whereareNaNs = np.isnan(df_ohe.values)\n",
    "print(sum(whereareNaNs))\n",
    "\n",
    "df_ohe.iloc[:, -7:][inds_NaN] = 0;\n",
    "\n",
    "whereareNaNs = np.isnan(df_ohe.values)\n",
    "print(sum(whereareNaNs))"
   ]
  },
  {
   "cell_type": "code",
   "execution_count": 42,
   "metadata": {},
   "outputs": [
    {
     "name": "stderr",
     "output_type": "stream",
     "text": [
      "/Users/kate_zym/anaconda/lib/python3.6/site-packages/ipykernel_launcher.py:17: SettingWithCopyWarning: \n",
      "A value is trying to be set on a copy of a slice from a DataFrame.\n",
      "Try using .loc[row_indexer,col_indexer] = value instead\n",
      "\n",
      "See the caveats in the documentation: http://pandas.pydata.org/pandas-docs/stable/indexing.html#indexing-view-versus-copy\n",
      "/Users/kate_zym/anaconda/lib/python3.6/site-packages/pandas/core/frame.py:2444: SettingWithCopyWarning: \n",
      "A value is trying to be set on a copy of a slice from a DataFrame\n",
      "\n",
      "See the caveats in the documentation: http://pandas.pydata.org/pandas-docs/stable/indexing.html#indexing-view-versus-copy\n",
      "  self.loc._setitem_with_indexer(indexer, value)\n",
      "/Users/kate_zym/anaconda/lib/python3.6/site-packages/pandas/core/frame.py:2424: SettingWithCopyWarning: \n",
      "A value is trying to be set on a copy of a slice from a DataFrame\n",
      "\n",
      "See the caveats in the documentation: http://pandas.pydata.org/pandas-docs/stable/indexing.html#indexing-view-versus-copy\n",
      "  self._setitem_array(key, value)\n"
     ]
    }
   ],
   "source": [
    "#  Standardize \n",
    "def standardize(x, x_ref):\n",
    "    mean = np.mean(x_ref);\n",
    "    std = np.std(x_ref);\n",
    "\n",
    "    x_stand = (x - mean)/std;\n",
    "    return x_stand\n",
    "\n",
    "df_num_1 = df_ohe.iloc[:, 1:30].copy();\n",
    "df_num_1_unstand = df_num_1.copy()\n",
    "df_num_1_stand = standardize(df_num_1, df_num_1_unstand)\n",
    "\n",
    "df_num_2 = df_ohe.iloc[:, 114:].copy();\n",
    "df_num_2_unstand = df_num_2[~inds_NaN].copy()\n",
    "df_num_2_stand = standardize(df_num_2, df_num_2_unstand)\n",
    "\n",
    "df_num_2_stand.iloc[:, -6:][inds_NaN] =-1;\n",
    "\n",
    "df_stand = pd.concat([df.iloc[:, 0], df_num_1_stand, df_num_2_stand, df_ohe.iloc[:, 30:114]], axis =1)"
   ]
  },
  {
   "cell_type": "code",
   "execution_count": 31,
   "metadata": {},
   "outputs": [
    {
     "name": "stdout",
     "output_type": "stream",
     "text": [
      "(18000, 132)\n"
     ]
    }
   ],
   "source": [
    "# finalize as df train\n",
    "print(df_stand.shape)\n",
    "df_train = df_stand.copy()\n",
    "\n",
    "from numpy import *\n",
    "whereareNaNs = np.isnan(df_ohe.values)"
   ]
  },
  {
   "cell_type": "code",
   "execution_count": 32,
   "metadata": {},
   "outputs": [
    {
     "data": {
      "text/plain": [
       "0"
      ]
     },
     "execution_count": 32,
     "metadata": {},
     "output_type": "execute_result"
    }
   ],
   "source": [
    "sum(whereareNaNs)"
   ]
  },
  {
   "cell_type": "markdown",
   "metadata": {},
   "source": [
    "### Plot some relationships"
   ]
  },
  {
   "cell_type": "code",
   "execution_count": 19,
   "metadata": {
    "collapsed": true
   },
   "outputs": [],
   "source": [
    "sns.set('poster')"
   ]
  },
  {
   "cell_type": "code",
   "execution_count": 33,
   "metadata": {},
   "outputs": [
    {
     "name": "stdout",
     "output_type": "stream",
     "text": [
      "0 Doctor Identifier\n",
      "1 Number of Services\n",
      "2 Number of Beneficiaries\n",
      "3 Total Submitted Charge Amount\n",
      "4 Total Allowed Amount\n",
      "5 Total Payment Amount\n",
      "6 Total Standardized Payment Amount\n",
      "7 Number of Drug Services\n",
      "8 Total Drug Submitted Charge Amount\n",
      "9 Total Drug Allowed Amount \n",
      "10 Total Drug Payment Amount \n",
      "11 Total Drug Standardized Payment Amount\n",
      "12 Number of Medical Services\n",
      "13 Percent Atrial Fibrillation\n",
      "14 Percent Alzheimer’s Disease or Dementia \n",
      "15 Percent Asthma \n",
      "16 Percent Cancer \n",
      "17 Percent Heart Failure \n",
      "18 Percent Chronic Kidney Disease\n",
      "19 Percent Chronic Obstructive Pulmonary Disease\n",
      "20 Percent Depression \n",
      "21 Percent Diabetes \n",
      "22 Percent Hyperlipidemia \n",
      "23 Percent Hypertension \n",
      "24 Percent Ischemic Heart Disease \n",
      "25 Percent Osteoporosis \n",
      "26 Percent Rheumatoid Arthritis or Osteoarthritis \n",
      "27 Percent Schizophrenia or Other Psychotic Disorders \n",
      "28 Percent Stroke \n",
      "29 Average HCC Risk Score of Beneficiaries \n",
      "30 Submitted Charge per Service\n",
      "31 Allowed Amount per Service\n",
      "32 Payment Amount per Service\n",
      "33 Drug Submitted Charge Amount per Service\n",
      "34 Drug Allowed Amount per Service\n",
      "35 Drug Payment Amount per Service\n",
      "36 Submitted Charge per Beneficiary\n",
      "37 Allowed Amount per Beneficiary\n",
      "38 Payment Amount per Beneficiary\n",
      "39 Drug Submitted Charge Amount per Beneficiary\n",
      "40 Drug Allowed Amount per Beneficiary\n",
      "41 Drug Payment Amount per Beneficiary\n",
      "42 Submitted Charge per Drug\n",
      "43 Allowed Amount per Drug\n",
      "44 Payment Amount per Drug\n",
      "45 Drug Submitted Charge Amount per Drug\n",
      "46 Drug Allowed Amount per Drug\n",
      "47 Drug Payment Amount per Drug\n",
      "48 Provider Type_Addiction Medicine\n",
      "49 Provider Type_All Other Suppliers\n",
      "50 Provider Type_Allergy/Immunology\n",
      "51 Provider Type_Ambulance Service Supplier\n",
      "52 Provider Type_Ambulatory Surgical Center\n",
      "53 Provider Type_Anesthesiologist Assistants\n",
      "54 Provider Type_Anesthesiology\n",
      "55 Provider Type_Audiologist (billing independently)\n",
      "56 Provider Type_CRNA\n",
      "57 Provider Type_Cardiac Electrophysiology\n",
      "58 Provider Type_Cardiac Surgery\n",
      "59 Provider Type_Cardiology\n",
      "60 Provider Type_Centralized Flu\n",
      "61 Provider Type_Certified Clinical Nurse Specialist\n",
      "62 Provider Type_Certified Nurse Midwife\n",
      "63 Provider Type_Chiropractic\n",
      "64 Provider Type_Clinical Laboratory\n",
      "65 Provider Type_Clinical Psychologist\n",
      "66 Provider Type_Colorectal Surgery (formerly proctology)\n",
      "67 Provider Type_Critical Care (Intensivists)\n",
      "68 Provider Type_Dermatology\n",
      "69 Provider Type_Diagnostic Radiology\n",
      "70 Provider Type_Emergency Medicine\n",
      "71 Provider Type_Endocrinology\n",
      "72 Provider Type_Family Practice\n",
      "73 Provider Type_Gastroenterology\n",
      "74 Provider Type_General Practice\n",
      "75 Provider Type_General Surgery\n",
      "76 Provider Type_Geriatric Medicine\n",
      "77 Provider Type_Geriatric Psychiatry\n",
      "78 Provider Type_Gynecological/Oncology\n",
      "79 Provider Type_Hand Surgery\n",
      "80 Provider Type_Hematology\n",
      "81 Provider Type_Hematology/Oncology\n",
      "82 Provider Type_Hospice and Palliative Care\n",
      "83 Provider Type_Independent Diagnostic Testing Facility\n",
      "84 Provider Type_Infectious Disease\n",
      "85 Provider Type_Internal Medicine\n",
      "86 Provider Type_Interventional Cardiology\n",
      "87 Provider Type_Interventional Pain Management\n",
      "88 Provider Type_Interventional Radiology\n",
      "89 Provider Type_Licensed Clinical Social Worker\n",
      "90 Provider Type_Mammographic Screening Center\n",
      "91 Provider Type_Mass Immunization Roster Biller\n",
      "92 Provider Type_Maxillofacial Surgery\n",
      "93 Provider Type_Medical Oncology\n",
      "94 Provider Type_Multispecialty Clinic/Group Practice\n",
      "95 Provider Type_Nephrology\n",
      "96 Provider Type_Neurology\n",
      "97 Provider Type_Neurosurgery\n",
      "98 Provider Type_Nuclear Medicine\n",
      "99 Provider Type_Nurse Practitioner\n",
      "100 Provider Type_Obstetrics/Gynecology\n",
      "101 Provider Type_Occupational therapist\n",
      "102 Provider Type_Ophthalmology\n",
      "103 Provider Type_Optometry\n",
      "104 Provider Type_Oral Surgery (dentists only)\n",
      "105 Provider Type_Orthopedic Surgery\n",
      "106 Provider Type_Osteopathic Manipulative Medicine\n",
      "107 Provider Type_Otolaryngology\n",
      "108 Provider Type_Pain Management\n",
      "109 Provider Type_Pathology\n",
      "110 Provider Type_Pediatric Medicine\n",
      "111 Provider Type_Physical Medicine and Rehabilitation\n",
      "112 Provider Type_Physical Therapist\n",
      "113 Provider Type_Physician Assistant\n",
      "114 Provider Type_Plastic and Reconstructive Surgery\n",
      "115 Provider Type_Podiatry\n",
      "116 Provider Type_Portable X-ray\n",
      "117 Provider Type_Preventive Medicine\n",
      "118 Provider Type_Psychiatry\n",
      "119 Provider Type_Public Health Welfare Agency\n",
      "120 Provider Type_Pulmonary Disease\n",
      "121 Provider Type_Radiation Oncology\n",
      "122 Provider Type_Registered Dietician/Nutrition Professional\n",
      "123 Provider Type_Rheumatology\n",
      "124 Provider Type_Sleep Medicine\n",
      "125 Provider Type_Speech Language Pathologist\n",
      "126 Provider Type_Sports Medicine\n",
      "127 Provider Type_Surgical Oncology\n",
      "128 Provider Type_Thoracic Surgery\n",
      "129 Provider Type_Unknown Physician Specialty Code\n",
      "130 Provider Type_Urology\n",
      "131 Provider Type_Vascular Surgery\n"
     ]
    }
   ],
   "source": [
    "for ind,col in enumerate(df_train.columns):\n",
    "    print(ind, col)"
   ]
  },
  {
   "cell_type": "code",
   "execution_count": 34,
   "metadata": {},
   "outputs": [
    {
     "data": {
      "image/png": "[encoded data removed]",
      "text/plain": [
       "<matplotlib.figure.Figure at 0x1187bfbe0>"
      ]
     },
     "metadata": {},
     "output_type": "display_data"
    }
   ],
   "source": [
    "plt.hist(df_train['Submitted Charge per Beneficiary'], bins = 100);"
   ]
  },
  {
   "cell_type": "code",
   "execution_count": 35,
   "metadata": {
    "scrolled": false
   },
   "outputs": [
    {
     "data": {
      "image/png": "[encoded data removed]",
      "text/plain": [
       "<matplotlib.figure.Figure at 0x11882d6a0>"
      ]
     },
     "metadata": {},
     "output_type": "display_data"
    }
   ],
   "source": [
    "plt.hist(df_train['Allowed Amount per Beneficiary'], bins = 100);"
   ]
  },
  {
   "cell_type": "code",
   "execution_count": 36,
   "metadata": {},
   "outputs": [
    {
     "data": {
      "text/plain": [
       "<matplotlib.collections.PathCollection at 0x110be4be0>"
      ]
     },
     "execution_count": 36,
     "metadata": {},
     "output_type": "execute_result"
    },
    {
     "data": {
      "image/png": "[encoded data removed]",
      "text/plain": [
       "<matplotlib.figure.Figure at 0x110b52d68>"
      ]
     },
     "metadata": {},
     "output_type": "display_data"
    }
   ],
   "source": [
    "plt.scatter(df_train['Allowed Amount per Beneficiary'], df_train['Submitted Charge per Beneficiary'])"
   ]
  },
  {
   "cell_type": "markdown",
   "metadata": {},
   "source": [
    "### Try 1 class svm"
   ]
  },
  {
   "cell_type": "code",
   "execution_count": 24,
   "metadata": {
    "collapsed": true
   },
   "outputs": [],
   "source": [
    "from sklearn import svm"
   ]
  },
  {
   "cell_type": "code",
   "execution_count": 92,
   "metadata": {},
   "outputs": [
    {
     "data": {
      "text/plain": [
       "OneClassSVM(cache_size=200, coef0=0.0, degree=3, gamma=0.0001, kernel='rbf',\n",
       "      max_iter=-1, nu=0.01, random_state=None, shrinking=True, tol=0.01,\n",
       "      verbose=False)"
      ]
     },
     "execution_count": 92,
     "metadata": {},
     "output_type": "execute_result"
    }
   ],
   "source": [
    "clf = svm.OneClassSVM(nu=0.01, kernel=\"rbf\", gamma = 0.0001, tol= 0.01)\n",
    "\n",
    "np.random.seed(9001)\n",
    "msk = np.random.rand(len(df_train)) < 0.25\n",
    "\n",
    "clf.fit(df_train[msk])"
   ]
  },
  {
   "cell_type": "code",
   "execution_count": 93,
   "metadata": {},
   "outputs": [],
   "source": [
    "risk = clf.decision_function(df_train)"
   ]
  },
  {
   "cell_type": "code",
   "execution_count": 94,
   "metadata": {},
   "outputs": [
    {
     "data": {
      "text/plain": [
       "115"
      ]
     },
     "execution_count": 94,
     "metadata": {},
     "output_type": "execute_result"
    }
   ],
   "source": [
    "len(np.unique(risk))"
   ]
  },
  {
   "cell_type": "code",
   "execution_count": 95,
   "metadata": {},
   "outputs": [
    {
     "data": {
      "text/plain": [
       "array([ -1.00068073e-02,  -1.00068073e-02,  -1.00068073e-02,\n",
       "        -1.00068073e-02,  -1.00068073e-02,  -1.00068073e-02,\n",
       "        -1.00068073e-02,  -1.00068073e-02,  -1.00068073e-02,\n",
       "        -1.00068073e-02,  -1.00068073e-02,  -1.00068073e-02,\n",
       "        -1.00068073e-02,  -1.00068073e-02,  -1.00068073e-02,\n",
       "        -1.00068073e-02,  -1.00068073e-02,  -1.00068073e-02,\n",
       "        -1.00068073e-02,  -1.00068071e-02,  -1.00068071e-02,\n",
       "        -1.00068068e-02,  -1.00068063e-02,  -1.00068062e-02,\n",
       "        -1.00068047e-02,  -1.00068021e-02,  -1.00068017e-02,\n",
       "        -1.00067910e-02,  -1.00067876e-02,  -1.00067829e-02,\n",
       "        -1.00067725e-02,  -1.00067545e-02,  -1.00067382e-02,\n",
       "        -1.00066777e-02,  -1.00066621e-02,  -1.00066533e-02,\n",
       "        -1.00066310e-02,  -1.00066187e-02,  -1.00065803e-02,\n",
       "        -1.00061381e-02,  -1.00060968e-02,  -1.00060520e-02,\n",
       "        -1.00053534e-02,  -1.00052142e-02,  -1.00049651e-02,\n",
       "        -1.00040637e-02,  -1.00040635e-02,  -1.00039019e-02,\n",
       "        -1.00031759e-02,  -1.00002131e-02,  -9.99872380e-03,\n",
       "        -9.99625981e-03,  -9.99504142e-03,  -9.98106448e-03,\n",
       "        -9.97707206e-03,  -9.96938509e-03,  -9.96630879e-03,\n",
       "        -9.94798213e-03,  -9.93946678e-03,  -9.92054007e-03,\n",
       "        -9.91277483e-03,  -9.82607293e-03,  -9.77986412e-03,\n",
       "        -9.72095837e-03,  -9.60578591e-03,  -9.59140701e-03,\n",
       "        -9.40402187e-03,  -9.36724443e-03,  -9.34685018e-03,\n",
       "        -9.25971023e-03,  -9.07836676e-03,  -8.80572589e-03,\n",
       "        -8.65129845e-03,  -8.33056398e-03,  -8.07204857e-03,\n",
       "        -6.84404767e-03,  -6.41293168e-03,  -6.09216274e-03,\n",
       "        -5.56199534e-03,  -4.88023697e-03,  -4.73553281e-03,\n",
       "        -4.49897220e-03,  -4.17461726e-03,  -3.61864739e-03,\n",
       "        -3.33332719e-03,  -2.39854454e-03,  -2.19430733e-03,\n",
       "        -2.19430733e-03,  -2.19430732e-03,  -2.19430732e-03,\n",
       "        -2.19430732e-03,  -2.19430731e-03,  -2.18982778e-03,\n",
       "        -2.18982430e-03,  -2.18977184e-03,  -2.18875605e-03,\n",
       "        -2.18874101e-03,  -2.18529752e-03,  -2.18529405e-03,\n",
       "        -2.18319766e-03,  -2.16618368e-03,  -2.16606751e-03,\n",
       "        -2.13814760e-03,  -1.76054256e-03,  -1.76026889e-03,\n",
       "        -1.37471660e-03,  -1.08904968e-03,  -1.08006147e-03,\n",
       "        -9.35325629e-04,  -9.27907812e-04,  -2.91357115e-04,\n",
       "        -7.82882320e-05,   2.49319267e-03,   4.95219652e-03,\n",
       "         5.61819267e-03])"
      ]
     },
     "execution_count": 95,
     "metadata": {},
     "output_type": "execute_result"
    }
   ],
   "source": [
    "np.unique(risk)"
   ]
  },
  {
   "cell_type": "code",
   "execution_count": 96,
   "metadata": {},
   "outputs": [
    {
     "data": {
      "text/plain": [
       "array([  6.12904727e-09,   8.48889683e-08,   8.61012908e-07,\n",
       "         8.74834033e-07,   1.16653279e-06,   1.18602920e-06,\n",
       "         1.88984572e-06,   3.09854658e-06,   3.09951010e-06,\n",
       "         4.57167516e-06,   4.69184844e-06,   4.69235175e-06,\n",
       "         4.76635202e-06,   4.77551008e-06,   4.77552525e-06,\n",
       "         4.79058722e-06,   4.79065306e-06,   4.79510070e-06,\n",
       "         4.79533048e-06,   4.79534569e-06,   4.81498456e-06,\n",
       "         4.81498460e-06,   4.81498460e-06,   4.81498463e-06,\n",
       "         4.81498465e-06,   4.81498465e-06,   5.75301591e-06,\n",
       "         6.21600970e-06,   1.11110702e-05,   1.30946089e-05,\n",
       "         1.74274293e-05,   2.02407508e-05,   2.24252710e-05,\n",
       "         2.38167129e-05,   2.45242503e-05,   3.09357922e-05,\n",
       "         3.15640889e-05,   3.71144469e-05,   4.11256928e-05,\n",
       "         4.68409886e-05,   6.51579682e-05,   6.93982962e-05,\n",
       "         7.48449649e-05,   7.75408085e-05,   8.24167430e-05,\n",
       "         8.57422335e-05,   8.73636082e-05,   8.77452683e-05,\n",
       "         8.84356274e-05,   9.19950885e-05,   9.22711229e-05,\n",
       "         9.44970317e-05,   9.56457423e-05,   9.65517091e-05,\n",
       "         9.82631049e-05,   9.84171153e-05,   9.87929998e-05,\n",
       "         9.89623484e-05,   9.93273108e-05,   9.93886390e-05,\n",
       "         9.95419669e-05,   9.96216482e-05,   9.99008531e-05,\n",
       "         9.99252102e-05,   9.99744777e-05,   1.00004262e-04,\n",
       "         1.00063527e-04,   1.00078054e-04,   1.00081287e-04,\n",
       "         1.00081291e-04,   1.00099326e-04,   1.00104310e-04,\n",
       "         1.00107096e-04,   1.00121078e-04,   1.00121973e-04,\n",
       "         1.00122801e-04,   1.00131650e-04,   1.00132417e-04,\n",
       "         1.00132664e-04,   1.00133110e-04,   1.00133287e-04,\n",
       "         1.00133598e-04,   1.00134810e-04,   1.00135135e-04,\n",
       "         1.00135497e-04,   1.00135704e-04,   1.00135799e-04,\n",
       "         1.00135866e-04,   1.00136080e-04,   1.00136088e-04,\n",
       "         1.00136140e-04,   1.00136171e-04,   1.00136172e-04,\n",
       "         1.00136183e-04,   1.00136188e-04,   1.00136189e-04,\n",
       "         1.00136192e-04,   1.00136193e-04,   1.00136193e-04,\n",
       "         1.00136193e-04,   1.00136193e-04,   1.00136193e-04,\n",
       "         1.00136193e-04,   1.00136193e-04,   1.00136193e-04,\n",
       "         1.00136193e-04,   1.00136193e-04,   1.00136193e-04,\n",
       "         1.00136193e-04,   1.00136193e-04,   1.00136193e-04,\n",
       "         1.00136193e-04,   1.00136193e-04,   1.00136193e-04,\n",
       "         1.00136193e-04])"
      ]
     },
     "execution_count": 96,
     "metadata": {},
     "output_type": "execute_result"
    }
   ],
   "source": [
    "risk_submit = risk**2\n",
    "np.unique(risk_submit)"
   ]
  },
  {
   "cell_type": "code",
   "execution_count": 97,
   "metadata": {},
   "outputs": [
    {
     "data": {
      "image/png": "[encoded data removed]",
      "text/plain": [
       "<matplotlib.figure.Figure at 0x1178ba5f8>"
      ]
     },
     "metadata": {},
     "output_type": "display_data"
    }
   ],
   "source": [
    "plt.hist(risk, bins = 40);"
   ]
  },
  {
   "cell_type": "code",
   "execution_count": 98,
   "metadata": {},
   "outputs": [],
   "source": [
    "submission = pd.DataFrame(df_train['Doctor Identifier'])\n",
    "submission['Risk'] = risk\n",
    "submission.reset_index()\n",
    "submission = submission.sort_values(['Risk'], ascending = False)\n",
    "\n",
    "submission.to_csv('/Users/kate_zym/Documents/GitHub/datachallenge/svm2.csv', index = False, header = True)"
   ]
  },
  {
   "cell_type": "code",
   "execution_count": 38,
   "metadata": {},
   "outputs": [
    {
     "data": {
      "text/plain": [
       "Doctor Identifier                                              int64\n",
       "Number of Services                                           float64\n",
       "Number of Beneficiaries                                      float64\n",
       "Total Submitted Charge Amount                                float64\n",
       "Total Allowed Amount                                         float64\n",
       "Total Payment Amount                                         float64\n",
       "Total Standardized Payment Amount                            float64\n",
       "Number of Drug Services                                      float64\n",
       "Total Drug Submitted Charge Amount                           float64\n",
       "Total Drug Allowed Amount                                    float64\n",
       "Total Drug Payment Amount                                    float64\n",
       "Total Drug Standardized Payment Amount                       float64\n",
       "Number of Medical Services                                   float64\n",
       "Percent Atrial Fibrillation                                  float64\n",
       "Percent Alzheimer’s Disease or Dementia                      float64\n",
       "Percent Asthma                                               float64\n",
       "Percent Cancer                                               float64\n",
       "Percent Heart Failure                                        float64\n",
       "Percent Chronic Kidney Disease                               float64\n",
       "Percent Chronic Obstructive Pulmonary Disease                float64\n",
       "Percent Depression                                           float64\n",
       "Percent Diabetes                                             float64\n",
       "Percent Hyperlipidemia                                       float64\n",
       "Percent Hypertension                                         float64\n",
       "Percent Ischemic Heart Disease                               float64\n",
       "Percent Osteoporosis                                         float64\n",
       "Percent Rheumatoid Arthritis or Osteoarthritis               float64\n",
       "Percent Schizophrenia or Other Psychotic Disorders           float64\n",
       "Percent Stroke                                               float64\n",
       "Average HCC Risk Score of Beneficiaries                      float64\n",
       "                                                              ...   \n",
       "Provider Type_Ophthalmology                                    uint8\n",
       "Provider Type_Optometry                                        uint8\n",
       "Provider Type_Oral Surgery (dentists only)                     uint8\n",
       "Provider Type_Orthopedic Surgery                               uint8\n",
       "Provider Type_Osteopathic Manipulative Medicine                uint8\n",
       "Provider Type_Otolaryngology                                   uint8\n",
       "Provider Type_Pain Management                                  uint8\n",
       "Provider Type_Pathology                                        uint8\n",
       "Provider Type_Pediatric Medicine                               uint8\n",
       "Provider Type_Physical Medicine and Rehabilitation             uint8\n",
       "Provider Type_Physical Therapist                               uint8\n",
       "Provider Type_Physician Assistant                              uint8\n",
       "Provider Type_Plastic and Reconstructive Surgery               uint8\n",
       "Provider Type_Podiatry                                         uint8\n",
       "Provider Type_Portable X-ray                                   uint8\n",
       "Provider Type_Preventive Medicine                              uint8\n",
       "Provider Type_Psychiatry                                       uint8\n",
       "Provider Type_Public Health Welfare Agency                     uint8\n",
       "Provider Type_Pulmonary Disease                                uint8\n",
       "Provider Type_Radiation Oncology                               uint8\n",
       "Provider Type_Registered Dietician/Nutrition Professional      uint8\n",
       "Provider Type_Rheumatology                                     uint8\n",
       "Provider Type_Sleep Medicine                                   uint8\n",
       "Provider Type_Speech Language Pathologist                      uint8\n",
       "Provider Type_Sports Medicine                                  uint8\n",
       "Provider Type_Surgical Oncology                                uint8\n",
       "Provider Type_Thoracic Surgery                                 uint8\n",
       "Provider Type_Unknown Physician Specialty Code                 uint8\n",
       "Provider Type_Urology                                          uint8\n",
       "Provider Type_Vascular Surgery                                 uint8\n",
       "Length: 132, dtype: object"
      ]
     },
     "execution_count": 38,
     "metadata": {},
     "output_type": "execute_result"
    }
   ],
   "source": [
    "df_train.dtypes"
   ]
  },
  {
   "cell_type": "markdown",
   "metadata": {},
   "source": [
    "### our test python"
   ]
  },
  {
   "cell_type": "code",
   "execution_count": 99,
   "metadata": {
    "collapsed": true
   },
   "outputs": [],
   "source": [
    "from sklearn.metrics import roc_curve, auc"
   ]
  },
  {
   "cell_type": "code",
   "execution_count": null,
   "metadata": {
    "collapsed": true
   },
   "outputs": [],
   "source": []
  }
 ],
 "metadata": {
  "kernelspec": {
   "display_name": "Python 3",
   "language": "python",
   "name": "python3"
  },
  "language_info": {
   "codemirror_mode": {
    "name": "ipython",
    "version": 3
   },
   "file_extension": ".py",
   "mimetype": "text/x-python",
   "name": "python",
   "nbconvert_exporter": "python",
   "pygments_lexer": "ipython3",
   "version": "3.6.1"
  }
 },
 "nbformat": 4,
 "nbformat_minor": 2
}
