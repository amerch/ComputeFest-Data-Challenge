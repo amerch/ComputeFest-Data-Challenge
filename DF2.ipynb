{
 "cells": [
  {
   "cell_type": "markdown",
   "metadata": {},
   "source": [
    "# Student Data Challenge Jan 2018"
   ]
  },
  {
   "cell_type": "code",
   "execution_count": 3,
   "metadata": {
    "collapsed": true
   },
   "outputs": [],
   "source": [
    "# packages\n",
    "import numpy as np\n",
    "import pandas as pd\n",
    "import matplotlib\n",
    "import matplotlib.pyplot as plt\n",
    "import sklearn.metrics as metrics\n",
    "from sklearn.model_selection import cross_val_score\n",
    "from sklearn import tree\n",
    "from sklearn import ensemble\n",
    "from sklearn.tree import DecisionTreeClassifier\n",
    "from sklearn.ensemble import RandomForestClassifier\n",
    "from sklearn.ensemble import RandomForestRegressor\n",
    "from sklearn.ensemble import AdaBoostClassifier\n",
    "from sklearn.linear_model import LogisticRegressionCV\n",
    "from sklearn import tree\n",
    "from sklearn.metrics import confusion_matrix\n",
    "from sklearn.model_selection import GridSearchCV\n",
    "from sklearn.model_selection import KFold\n",
    "from itertools import product\n",
    "from collections import OrderedDict ### data structure.. for laziness\n",
    "import seaborn as sns\n",
    "import operator\n",
    "%matplotlib inline"
   ]
  },
  {
   "cell_type": "markdown",
   "metadata": {},
   "source": [
    "### new plain"
   ]
  },
  {
   "cell_type": "code",
   "execution_count": 9,
   "metadata": {},
   "outputs": [
    {
     "data": {
      "text/html": [
       "<div>\n",
       "<style>\n",
       "    .dataframe thead tr:only-child th {\n",
       "        text-align: right;\n",
       "    }\n",
       "\n",
       "    .dataframe thead th {\n",
       "        text-align: left;\n",
       "    }\n",
       "\n",
       "    .dataframe tbody tr th {\n",
       "        vertical-align: top;\n",
       "    }\n",
       "</style>\n",
       "<table border=\"1\" class=\"dataframe\">\n",
       "  <thead>\n",
       "    <tr style=\"text-align: right;\">\n",
       "      <th></th>\n",
       "      <th>Provider Type</th>\n",
       "      <th>Number of Services</th>\n",
       "      <th>Number of Beneficiaries</th>\n",
       "      <th>Total Submitted Charge Amount</th>\n",
       "      <th>Total Allowed Amount</th>\n",
       "      <th>Total Payment Amount</th>\n",
       "      <th>Total Standardized Payment Amount</th>\n",
       "      <th>Number of Drug Services</th>\n",
       "      <th>Total Drug Submitted Charge Amount</th>\n",
       "      <th>Total Drug Allowed Amount</th>\n",
       "      <th>...</th>\n",
       "      <th>Percent Depression</th>\n",
       "      <th>Percent Diabetes</th>\n",
       "      <th>Percent Hyperlipidemia</th>\n",
       "      <th>Percent Hypertension</th>\n",
       "      <th>Percent Ischemic Heart Disease</th>\n",
       "      <th>Percent Osteoporosis</th>\n",
       "      <th>Percent Rheumatoid Arthritis or Osteoarthritis</th>\n",
       "      <th>Percent Schizophrenia or Other Psychotic Disorders</th>\n",
       "      <th>Percent Stroke</th>\n",
       "      <th>Average HCC Risk Score of Beneficiaries</th>\n",
       "    </tr>\n",
       "  </thead>\n",
       "  <tbody>\n",
       "    <tr>\n",
       "      <th>0</th>\n",
       "      <td>Optometry</td>\n",
       "      <td>491</td>\n",
       "      <td>66</td>\n",
       "      <td>52550.00</td>\n",
       "      <td>45827.70</td>\n",
       "      <td>34211.71</td>\n",
       "      <td>32460.86</td>\n",
       "      <td>0</td>\n",
       "      <td>0.00</td>\n",
       "      <td>0.00</td>\n",
       "      <td>...</td>\n",
       "      <td>75.0</td>\n",
       "      <td>18.00</td>\n",
       "      <td>41.0</td>\n",
       "      <td>50.0</td>\n",
       "      <td>3.11</td>\n",
       "      <td>0.83</td>\n",
       "      <td>23.0</td>\n",
       "      <td>18.00</td>\n",
       "      <td>0.65</td>\n",
       "      <td>1.28</td>\n",
       "    </tr>\n",
       "    <tr>\n",
       "      <th>1</th>\n",
       "      <td>Emergency Medicine</td>\n",
       "      <td>3883</td>\n",
       "      <td>211</td>\n",
       "      <td>165408.00</td>\n",
       "      <td>84216.16</td>\n",
       "      <td>62257.97</td>\n",
       "      <td>62267.51</td>\n",
       "      <td>3304</td>\n",
       "      <td>28918.00</td>\n",
       "      <td>18847.34</td>\n",
       "      <td>...</td>\n",
       "      <td>42.0</td>\n",
       "      <td>24.00</td>\n",
       "      <td>48.0</td>\n",
       "      <td>56.0</td>\n",
       "      <td>22.00</td>\n",
       "      <td>9.00</td>\n",
       "      <td>38.0</td>\n",
       "      <td>7.00</td>\n",
       "      <td>10.00</td>\n",
       "      <td>1.52</td>\n",
       "    </tr>\n",
       "    <tr>\n",
       "      <th>2</th>\n",
       "      <td>CRNA</td>\n",
       "      <td>3103</td>\n",
       "      <td>632</td>\n",
       "      <td>531584.25</td>\n",
       "      <td>230479.28</td>\n",
       "      <td>174262.00</td>\n",
       "      <td>167305.78</td>\n",
       "      <td>1016</td>\n",
       "      <td>32044.25</td>\n",
       "      <td>22049.04</td>\n",
       "      <td>...</td>\n",
       "      <td>24.0</td>\n",
       "      <td>19.00</td>\n",
       "      <td>44.0</td>\n",
       "      <td>57.0</td>\n",
       "      <td>25.00</td>\n",
       "      <td>12.00</td>\n",
       "      <td>67.0</td>\n",
       "      <td>4.00</td>\n",
       "      <td>7.00</td>\n",
       "      <td>1.11</td>\n",
       "    </tr>\n",
       "    <tr>\n",
       "      <th>3</th>\n",
       "      <td>Podiatry</td>\n",
       "      <td>43</td>\n",
       "      <td>42</td>\n",
       "      <td>2935.00</td>\n",
       "      <td>2932.84</td>\n",
       "      <td>1652.31</td>\n",
       "      <td>4208.75</td>\n",
       "      <td>0</td>\n",
       "      <td>0.00</td>\n",
       "      <td>0.00</td>\n",
       "      <td>...</td>\n",
       "      <td>31.0</td>\n",
       "      <td>0.89</td>\n",
       "      <td>62.0</td>\n",
       "      <td>57.0</td>\n",
       "      <td>36.00</td>\n",
       "      <td>0.27</td>\n",
       "      <td>38.0</td>\n",
       "      <td>0.44</td>\n",
       "      <td>0.25</td>\n",
       "      <td>1.00</td>\n",
       "    </tr>\n",
       "    <tr>\n",
       "      <th>4</th>\n",
       "      <td>Licensed Clinical Social Worker</td>\n",
       "      <td>151</td>\n",
       "      <td>34</td>\n",
       "      <td>13118.00</td>\n",
       "      <td>3991.45</td>\n",
       "      <td>3911.61</td>\n",
       "      <td>3402.45</td>\n",
       "      <td>0</td>\n",
       "      <td>0.00</td>\n",
       "      <td>0.00</td>\n",
       "      <td>...</td>\n",
       "      <td>56.0</td>\n",
       "      <td>75.00</td>\n",
       "      <td>75.0</td>\n",
       "      <td>75.0</td>\n",
       "      <td>41.00</td>\n",
       "      <td>0.05</td>\n",
       "      <td>56.0</td>\n",
       "      <td>0.00</td>\n",
       "      <td>0.03</td>\n",
       "      <td>1.57</td>\n",
       "    </tr>\n",
       "  </tbody>\n",
       "</table>\n",
       "<p>5 rows × 30 columns</p>\n",
       "</div>"
      ],
      "text/plain": [
       "                     Provider Type  Number of Services  \\\n",
       "0                        Optometry                 491   \n",
       "1               Emergency Medicine                3883   \n",
       "2                             CRNA                3103   \n",
       "3                         Podiatry                  43   \n",
       "4  Licensed Clinical Social Worker                 151   \n",
       "\n",
       "   Number of Beneficiaries  Total Submitted Charge Amount  \\\n",
       "0                       66                       52550.00   \n",
       "1                      211                      165408.00   \n",
       "2                      632                      531584.25   \n",
       "3                       42                        2935.00   \n",
       "4                       34                       13118.00   \n",
       "\n",
       "   Total Allowed Amount  Total Payment Amount  \\\n",
       "0              45827.70              34211.71   \n",
       "1              84216.16              62257.97   \n",
       "2             230479.28             174262.00   \n",
       "3               2932.84               1652.31   \n",
       "4               3991.45               3911.61   \n",
       "\n",
       "   Total Standardized Payment Amount  Number of Drug Services  \\\n",
       "0                           32460.86                        0   \n",
       "1                           62267.51                     3304   \n",
       "2                          167305.78                     1016   \n",
       "3                            4208.75                        0   \n",
       "4                            3402.45                        0   \n",
       "\n",
       "   Total Drug Submitted Charge Amount  Total Drug Allowed Amount   \\\n",
       "0                                0.00                        0.00   \n",
       "1                            28918.00                    18847.34   \n",
       "2                            32044.25                    22049.04   \n",
       "3                                0.00                        0.00   \n",
       "4                                0.00                        0.00   \n",
       "\n",
       "                     ...                     Percent Depression   \\\n",
       "0                    ...                                    75.0   \n",
       "1                    ...                                    42.0   \n",
       "2                    ...                                    24.0   \n",
       "3                    ...                                    31.0   \n",
       "4                    ...                                    56.0   \n",
       "\n",
       "   Percent Diabetes   Percent Hyperlipidemia   Percent Hypertension   \\\n",
       "0              18.00                     41.0                   50.0   \n",
       "1              24.00                     48.0                   56.0   \n",
       "2              19.00                     44.0                   57.0   \n",
       "3               0.89                     62.0                   57.0   \n",
       "4              75.00                     75.0                   75.0   \n",
       "\n",
       "   Percent Ischemic Heart Disease   Percent Osteoporosis   \\\n",
       "0                             3.11                   0.83   \n",
       "1                            22.00                   9.00   \n",
       "2                            25.00                  12.00   \n",
       "3                            36.00                   0.27   \n",
       "4                            41.00                   0.05   \n",
       "\n",
       "   Percent Rheumatoid Arthritis or Osteoarthritis   \\\n",
       "0                                             23.0   \n",
       "1                                             38.0   \n",
       "2                                             67.0   \n",
       "3                                             38.0   \n",
       "4                                             56.0   \n",
       "\n",
       "   Percent Schizophrenia or Other Psychotic Disorders   Percent Stroke   \\\n",
       "0                                              18.00               0.65   \n",
       "1                                               7.00              10.00   \n",
       "2                                               4.00               7.00   \n",
       "3                                               0.44               0.25   \n",
       "4                                               0.00               0.03   \n",
       "\n",
       "   Average HCC Risk Score of Beneficiaries   \n",
       "0                                      1.28  \n",
       "1                                      1.52  \n",
       "2                                      1.11  \n",
       "3                                      1.00  \n",
       "4                                      1.57  \n",
       "\n",
       "[5 rows x 30 columns]"
      ]
     },
     "execution_count": 9,
     "metadata": {},
     "output_type": "execute_result"
    }
   ],
   "source": [
    "# plain data\n",
    "df2 = pd.read_csv('X_train.csv')\n",
    "df2 = df2.drop(['Doctor Identifier'], axis = 1)\n",
    "df2.head()"
   ]
  },
  {
   "cell_type": "code",
   "execution_count": 10,
   "metadata": {},
   "outputs": [
    {
     "data": {
      "text/html": [
       "<div>\n",
       "<style>\n",
       "    .dataframe thead tr:only-child th {\n",
       "        text-align: right;\n",
       "    }\n",
       "\n",
       "    .dataframe thead th {\n",
       "        text-align: left;\n",
       "    }\n",
       "\n",
       "    .dataframe tbody tr th {\n",
       "        vertical-align: top;\n",
       "    }\n",
       "</style>\n",
       "<table border=\"1\" class=\"dataframe\">\n",
       "  <thead>\n",
       "    <tr style=\"text-align: right;\">\n",
       "      <th></th>\n",
       "      <th>Number of Services</th>\n",
       "      <th>Number of Beneficiaries</th>\n",
       "      <th>Total Submitted Charge Amount</th>\n",
       "      <th>Total Allowed Amount</th>\n",
       "      <th>Total Payment Amount</th>\n",
       "      <th>Total Standardized Payment Amount</th>\n",
       "      <th>Number of Drug Services</th>\n",
       "      <th>Total Drug Submitted Charge Amount</th>\n",
       "      <th>Total Drug Allowed Amount</th>\n",
       "      <th>Total Drug Payment Amount</th>\n",
       "      <th>...</th>\n",
       "      <th>Provider Type_Registered Dietician/Nutrition Professional</th>\n",
       "      <th>Provider Type_Rheumatology</th>\n",
       "      <th>Provider Type_Sleep Medicine</th>\n",
       "      <th>Provider Type_Speech Language Pathologist</th>\n",
       "      <th>Provider Type_Sports Medicine</th>\n",
       "      <th>Provider Type_Surgical Oncology</th>\n",
       "      <th>Provider Type_Thoracic Surgery</th>\n",
       "      <th>Provider Type_Unknown Physician Specialty Code</th>\n",
       "      <th>Provider Type_Urology</th>\n",
       "      <th>Provider Type_Vascular Surgery</th>\n",
       "    </tr>\n",
       "  </thead>\n",
       "  <tbody>\n",
       "    <tr>\n",
       "      <th>0</th>\n",
       "      <td>491</td>\n",
       "      <td>66</td>\n",
       "      <td>52550.00</td>\n",
       "      <td>45827.70</td>\n",
       "      <td>34211.71</td>\n",
       "      <td>32460.86</td>\n",
       "      <td>0</td>\n",
       "      <td>0.00</td>\n",
       "      <td>0.00</td>\n",
       "      <td>0.00</td>\n",
       "      <td>...</td>\n",
       "      <td>0</td>\n",
       "      <td>0</td>\n",
       "      <td>0</td>\n",
       "      <td>0</td>\n",
       "      <td>0</td>\n",
       "      <td>0</td>\n",
       "      <td>0</td>\n",
       "      <td>0</td>\n",
       "      <td>0</td>\n",
       "      <td>0</td>\n",
       "    </tr>\n",
       "    <tr>\n",
       "      <th>1</th>\n",
       "      <td>3883</td>\n",
       "      <td>211</td>\n",
       "      <td>165408.00</td>\n",
       "      <td>84216.16</td>\n",
       "      <td>62257.97</td>\n",
       "      <td>62267.51</td>\n",
       "      <td>3304</td>\n",
       "      <td>28918.00</td>\n",
       "      <td>18847.34</td>\n",
       "      <td>14776.33</td>\n",
       "      <td>...</td>\n",
       "      <td>0</td>\n",
       "      <td>0</td>\n",
       "      <td>0</td>\n",
       "      <td>0</td>\n",
       "      <td>0</td>\n",
       "      <td>0</td>\n",
       "      <td>0</td>\n",
       "      <td>0</td>\n",
       "      <td>0</td>\n",
       "      <td>0</td>\n",
       "    </tr>\n",
       "    <tr>\n",
       "      <th>2</th>\n",
       "      <td>3103</td>\n",
       "      <td>632</td>\n",
       "      <td>531584.25</td>\n",
       "      <td>230479.28</td>\n",
       "      <td>174262.00</td>\n",
       "      <td>167305.78</td>\n",
       "      <td>1016</td>\n",
       "      <td>32044.25</td>\n",
       "      <td>22049.04</td>\n",
       "      <td>17062.35</td>\n",
       "      <td>...</td>\n",
       "      <td>0</td>\n",
       "      <td>0</td>\n",
       "      <td>0</td>\n",
       "      <td>0</td>\n",
       "      <td>0</td>\n",
       "      <td>0</td>\n",
       "      <td>0</td>\n",
       "      <td>0</td>\n",
       "      <td>0</td>\n",
       "      <td>0</td>\n",
       "    </tr>\n",
       "    <tr>\n",
       "      <th>3</th>\n",
       "      <td>43</td>\n",
       "      <td>42</td>\n",
       "      <td>2935.00</td>\n",
       "      <td>2932.84</td>\n",
       "      <td>1652.31</td>\n",
       "      <td>4208.75</td>\n",
       "      <td>0</td>\n",
       "      <td>0.00</td>\n",
       "      <td>0.00</td>\n",
       "      <td>0.00</td>\n",
       "      <td>...</td>\n",
       "      <td>0</td>\n",
       "      <td>0</td>\n",
       "      <td>0</td>\n",
       "      <td>0</td>\n",
       "      <td>0</td>\n",
       "      <td>0</td>\n",
       "      <td>0</td>\n",
       "      <td>0</td>\n",
       "      <td>0</td>\n",
       "      <td>0</td>\n",
       "    </tr>\n",
       "    <tr>\n",
       "      <th>4</th>\n",
       "      <td>151</td>\n",
       "      <td>34</td>\n",
       "      <td>13118.00</td>\n",
       "      <td>3991.45</td>\n",
       "      <td>3911.61</td>\n",
       "      <td>3402.45</td>\n",
       "      <td>0</td>\n",
       "      <td>0.00</td>\n",
       "      <td>0.00</td>\n",
       "      <td>0.00</td>\n",
       "      <td>...</td>\n",
       "      <td>0</td>\n",
       "      <td>0</td>\n",
       "      <td>0</td>\n",
       "      <td>0</td>\n",
       "      <td>0</td>\n",
       "      <td>0</td>\n",
       "      <td>0</td>\n",
       "      <td>0</td>\n",
       "      <td>0</td>\n",
       "      <td>0</td>\n",
       "    </tr>\n",
       "  </tbody>\n",
       "</table>\n",
       "<p>5 rows × 113 columns</p>\n",
       "</div>"
      ],
      "text/plain": [
       "   Number of Services  Number of Beneficiaries  Total Submitted Charge Amount  \\\n",
       "0                 491                       66                       52550.00   \n",
       "1                3883                      211                      165408.00   \n",
       "2                3103                      632                      531584.25   \n",
       "3                  43                       42                        2935.00   \n",
       "4                 151                       34                       13118.00   \n",
       "\n",
       "   Total Allowed Amount  Total Payment Amount  \\\n",
       "0              45827.70              34211.71   \n",
       "1              84216.16              62257.97   \n",
       "2             230479.28             174262.00   \n",
       "3               2932.84               1652.31   \n",
       "4               3991.45               3911.61   \n",
       "\n",
       "   Total Standardized Payment Amount  Number of Drug Services  \\\n",
       "0                           32460.86                        0   \n",
       "1                           62267.51                     3304   \n",
       "2                          167305.78                     1016   \n",
       "3                            4208.75                        0   \n",
       "4                            3402.45                        0   \n",
       "\n",
       "   Total Drug Submitted Charge Amount  Total Drug Allowed Amount   \\\n",
       "0                                0.00                        0.00   \n",
       "1                            28918.00                    18847.34   \n",
       "2                            32044.25                    22049.04   \n",
       "3                                0.00                        0.00   \n",
       "4                                0.00                        0.00   \n",
       "\n",
       "   Total Drug Payment Amount                ...                \\\n",
       "0                        0.00               ...                 \n",
       "1                    14776.33               ...                 \n",
       "2                    17062.35               ...                 \n",
       "3                        0.00               ...                 \n",
       "4                        0.00               ...                 \n",
       "\n",
       "   Provider Type_Registered Dietician/Nutrition Professional  \\\n",
       "0                                                  0           \n",
       "1                                                  0           \n",
       "2                                                  0           \n",
       "3                                                  0           \n",
       "4                                                  0           \n",
       "\n",
       "   Provider Type_Rheumatology  Provider Type_Sleep Medicine  \\\n",
       "0                           0                             0   \n",
       "1                           0                             0   \n",
       "2                           0                             0   \n",
       "3                           0                             0   \n",
       "4                           0                             0   \n",
       "\n",
       "   Provider Type_Speech Language Pathologist  Provider Type_Sports Medicine  \\\n",
       "0                                          0                              0   \n",
       "1                                          0                              0   \n",
       "2                                          0                              0   \n",
       "3                                          0                              0   \n",
       "4                                          0                              0   \n",
       "\n",
       "   Provider Type_Surgical Oncology  Provider Type_Thoracic Surgery  \\\n",
       "0                                0                               0   \n",
       "1                                0                               0   \n",
       "2                                0                               0   \n",
       "3                                0                               0   \n",
       "4                                0                               0   \n",
       "\n",
       "   Provider Type_Unknown Physician Specialty Code  Provider Type_Urology  \\\n",
       "0                                               0                      0   \n",
       "1                                               0                      0   \n",
       "2                                               0                      0   \n",
       "3                                               0                      0   \n",
       "4                                               0                      0   \n",
       "\n",
       "   Provider Type_Vascular Surgery  \n",
       "0                               0  \n",
       "1                               0  \n",
       "2                               0  \n",
       "3                               0  \n",
       "4                               0  \n",
       "\n",
       "[5 rows x 113 columns]"
      ]
     },
     "execution_count": 10,
     "metadata": {},
     "output_type": "execute_result"
    }
   ],
   "source": [
    "df_ohe2 = pd.get_dummies(df2, 'Provider Type')\n",
    "df_ohe2.head()"
   ]
  },
  {
   "cell_type": "code",
   "execution_count": 12,
   "metadata": {
    "scrolled": true
   },
   "outputs": [],
   "source": [
    "df2_stand = (df_ohe2 - df_ohe2.mean())/(df_ohe2.std())"
   ]
  },
  {
   "cell_type": "code",
   "execution_count": 13,
   "metadata": {},
   "outputs": [
    {
     "data": {
      "text/plain": [
       "Index(['Number of Services', 'Number of Beneficiaries',\n",
       "       'Total Submitted Charge Amount', 'Total Allowed Amount',\n",
       "       'Total Payment Amount', 'Total Standardized Payment Amount',\n",
       "       'Number of Drug Services', 'Total Drug Submitted Charge Amount',\n",
       "       'Total Drug Allowed Amount ', 'Total Drug Payment Amount ',\n",
       "       ...\n",
       "       'Provider Type_Registered Dietician/Nutrition Professional',\n",
       "       'Provider Type_Rheumatology', 'Provider Type_Sleep Medicine',\n",
       "       'Provider Type_Speech Language Pathologist',\n",
       "       'Provider Type_Sports Medicine', 'Provider Type_Surgical Oncology',\n",
       "       'Provider Type_Thoracic Surgery',\n",
       "       'Provider Type_Unknown Physician Specialty Code',\n",
       "       'Provider Type_Urology', 'Provider Type_Vascular Surgery'],\n",
       "      dtype='object', length=113)"
      ]
     },
     "execution_count": 13,
     "metadata": {},
     "output_type": "execute_result"
    }
   ],
   "source": [
    "df2_stand.columns"
   ]
  },
  {
   "cell_type": "markdown",
   "metadata": {},
   "source": [
    "### use pca"
   ]
  },
  {
   "cell_type": "code",
   "execution_count": 16,
   "metadata": {},
   "outputs": [
    {
     "data": {
      "text/html": [
       "<div>\n",
       "<style>\n",
       "    .dataframe thead tr:only-child th {\n",
       "        text-align: right;\n",
       "    }\n",
       "\n",
       "    .dataframe thead th {\n",
       "        text-align: left;\n",
       "    }\n",
       "\n",
       "    .dataframe tbody tr th {\n",
       "        vertical-align: top;\n",
       "    }\n",
       "</style>\n",
       "<table border=\"1\" class=\"dataframe\">\n",
       "  <thead>\n",
       "    <tr style=\"text-align: right;\">\n",
       "      <th></th>\n",
       "      <th>Number of Services</th>\n",
       "      <th>Number of Beneficiaries</th>\n",
       "      <th>Total Submitted Charge Amount</th>\n",
       "      <th>Total Allowed Amount</th>\n",
       "      <th>Total Payment Amount</th>\n",
       "      <th>Total Standardized Payment Amount</th>\n",
       "      <th>Number of Drug Services</th>\n",
       "      <th>Total Drug Submitted Charge Amount</th>\n",
       "      <th>Total Drug Allowed Amount</th>\n",
       "      <th>Total Drug Payment Amount</th>\n",
       "      <th>...</th>\n",
       "      <th>Provider Type_Registered Dietician/Nutrition Professional</th>\n",
       "      <th>Provider Type_Rheumatology</th>\n",
       "      <th>Provider Type_Sleep Medicine</th>\n",
       "      <th>Provider Type_Speech Language Pathologist</th>\n",
       "      <th>Provider Type_Sports Medicine</th>\n",
       "      <th>Provider Type_Surgical Oncology</th>\n",
       "      <th>Provider Type_Thoracic Surgery</th>\n",
       "      <th>Provider Type_Unknown Physician Specialty Code</th>\n",
       "      <th>Provider Type_Urology</th>\n",
       "      <th>Provider Type_Vascular Surgery</th>\n",
       "    </tr>\n",
       "  </thead>\n",
       "  <tbody>\n",
       "    <tr>\n",
       "      <th>0</th>\n",
       "      <td>-0.054055</td>\n",
       "      <td>-0.149748</td>\n",
       "      <td>-0.119307</td>\n",
       "      <td>-0.114199</td>\n",
       "      <td>-0.104583</td>\n",
       "      <td>-0.107071</td>\n",
       "      <td>-0.082824</td>\n",
       "      <td>-0.049353</td>\n",
       "      <td>-0.059193</td>\n",
       "      <td>-0.061618</td>\n",
       "      <td>...</td>\n",
       "      <td>-0.05783</td>\n",
       "      <td>-0.072064</td>\n",
       "      <td>-0.019724</td>\n",
       "      <td>-0.021086</td>\n",
       "      <td>-0.030745</td>\n",
       "      <td>-0.036538</td>\n",
       "      <td>-0.052777</td>\n",
       "      <td>-0.014908</td>\n",
       "      <td>-0.079833</td>\n",
       "      <td>-0.050061</td>\n",
       "    </tr>\n",
       "    <tr>\n",
       "      <th>1</th>\n",
       "      <td>0.078102</td>\n",
       "      <td>-0.072822</td>\n",
       "      <td>-0.065654</td>\n",
       "      <td>-0.027317</td>\n",
       "      <td>-0.031873</td>\n",
       "      <td>-0.029775</td>\n",
       "      <td>0.895218</td>\n",
       "      <td>0.056516</td>\n",
       "      <td>0.095352</td>\n",
       "      <td>0.093158</td>\n",
       "      <td>...</td>\n",
       "      <td>-0.05783</td>\n",
       "      <td>-0.072064</td>\n",
       "      <td>-0.019724</td>\n",
       "      <td>-0.021086</td>\n",
       "      <td>-0.030745</td>\n",
       "      <td>-0.036538</td>\n",
       "      <td>-0.052777</td>\n",
       "      <td>-0.014908</td>\n",
       "      <td>-0.079833</td>\n",
       "      <td>-0.050061</td>\n",
       "    </tr>\n",
       "    <tr>\n",
       "      <th>2</th>\n",
       "      <td>0.047712</td>\n",
       "      <td>0.150528</td>\n",
       "      <td>0.108427</td>\n",
       "      <td>0.303710</td>\n",
       "      <td>0.258498</td>\n",
       "      <td>0.242615</td>\n",
       "      <td>0.217930</td>\n",
       "      <td>0.067961</td>\n",
       "      <td>0.121605</td>\n",
       "      <td>0.117104</td>\n",
       "      <td>...</td>\n",
       "      <td>-0.05783</td>\n",
       "      <td>-0.072064</td>\n",
       "      <td>-0.019724</td>\n",
       "      <td>-0.021086</td>\n",
       "      <td>-0.030745</td>\n",
       "      <td>-0.036538</td>\n",
       "      <td>-0.052777</td>\n",
       "      <td>-0.014908</td>\n",
       "      <td>-0.079833</td>\n",
       "      <td>-0.050061</td>\n",
       "    </tr>\n",
       "    <tr>\n",
       "      <th>3</th>\n",
       "      <td>-0.071510</td>\n",
       "      <td>-0.162481</td>\n",
       "      <td>-0.142895</td>\n",
       "      <td>-0.211279</td>\n",
       "      <td>-0.188993</td>\n",
       "      <td>-0.180335</td>\n",
       "      <td>-0.082824</td>\n",
       "      <td>-0.049353</td>\n",
       "      <td>-0.059193</td>\n",
       "      <td>-0.061618</td>\n",
       "      <td>...</td>\n",
       "      <td>-0.05783</td>\n",
       "      <td>-0.072064</td>\n",
       "      <td>-0.019724</td>\n",
       "      <td>-0.021086</td>\n",
       "      <td>-0.030745</td>\n",
       "      <td>-0.036538</td>\n",
       "      <td>-0.052777</td>\n",
       "      <td>-0.014908</td>\n",
       "      <td>-0.079833</td>\n",
       "      <td>-0.050061</td>\n",
       "    </tr>\n",
       "    <tr>\n",
       "      <th>4</th>\n",
       "      <td>-0.067302</td>\n",
       "      <td>-0.166725</td>\n",
       "      <td>-0.138053</td>\n",
       "      <td>-0.208884</td>\n",
       "      <td>-0.183136</td>\n",
       "      <td>-0.182426</td>\n",
       "      <td>-0.082824</td>\n",
       "      <td>-0.049353</td>\n",
       "      <td>-0.059193</td>\n",
       "      <td>-0.061618</td>\n",
       "      <td>...</td>\n",
       "      <td>-0.05783</td>\n",
       "      <td>-0.072064</td>\n",
       "      <td>-0.019724</td>\n",
       "      <td>-0.021086</td>\n",
       "      <td>-0.030745</td>\n",
       "      <td>-0.036538</td>\n",
       "      <td>-0.052777</td>\n",
       "      <td>-0.014908</td>\n",
       "      <td>-0.079833</td>\n",
       "      <td>-0.050061</td>\n",
       "    </tr>\n",
       "  </tbody>\n",
       "</table>\n",
       "<p>5 rows × 113 columns</p>\n",
       "</div>"
      ],
      "text/plain": [
       "   Number of Services  Number of Beneficiaries  Total Submitted Charge Amount  \\\n",
       "0           -0.054055                -0.149748                      -0.119307   \n",
       "1            0.078102                -0.072822                      -0.065654   \n",
       "2            0.047712                 0.150528                       0.108427   \n",
       "3           -0.071510                -0.162481                      -0.142895   \n",
       "4           -0.067302                -0.166725                      -0.138053   \n",
       "\n",
       "   Total Allowed Amount  Total Payment Amount  \\\n",
       "0             -0.114199             -0.104583   \n",
       "1             -0.027317             -0.031873   \n",
       "2              0.303710              0.258498   \n",
       "3             -0.211279             -0.188993   \n",
       "4             -0.208884             -0.183136   \n",
       "\n",
       "   Total Standardized Payment Amount  Number of Drug Services  \\\n",
       "0                          -0.107071                -0.082824   \n",
       "1                          -0.029775                 0.895218   \n",
       "2                           0.242615                 0.217930   \n",
       "3                          -0.180335                -0.082824   \n",
       "4                          -0.182426                -0.082824   \n",
       "\n",
       "   Total Drug Submitted Charge Amount  Total Drug Allowed Amount   \\\n",
       "0                           -0.049353                   -0.059193   \n",
       "1                            0.056516                    0.095352   \n",
       "2                            0.067961                    0.121605   \n",
       "3                           -0.049353                   -0.059193   \n",
       "4                           -0.049353                   -0.059193   \n",
       "\n",
       "   Total Drug Payment Amount                ...                \\\n",
       "0                   -0.061618               ...                 \n",
       "1                    0.093158               ...                 \n",
       "2                    0.117104               ...                 \n",
       "3                   -0.061618               ...                 \n",
       "4                   -0.061618               ...                 \n",
       "\n",
       "   Provider Type_Registered Dietician/Nutrition Professional  \\\n",
       "0                                           -0.05783           \n",
       "1                                           -0.05783           \n",
       "2                                           -0.05783           \n",
       "3                                           -0.05783           \n",
       "4                                           -0.05783           \n",
       "\n",
       "   Provider Type_Rheumatology  Provider Type_Sleep Medicine  \\\n",
       "0                   -0.072064                     -0.019724   \n",
       "1                   -0.072064                     -0.019724   \n",
       "2                   -0.072064                     -0.019724   \n",
       "3                   -0.072064                     -0.019724   \n",
       "4                   -0.072064                     -0.019724   \n",
       "\n",
       "   Provider Type_Speech Language Pathologist  Provider Type_Sports Medicine  \\\n",
       "0                                  -0.021086                      -0.030745   \n",
       "1                                  -0.021086                      -0.030745   \n",
       "2                                  -0.021086                      -0.030745   \n",
       "3                                  -0.021086                      -0.030745   \n",
       "4                                  -0.021086                      -0.030745   \n",
       "\n",
       "   Provider Type_Surgical Oncology  Provider Type_Thoracic Surgery  \\\n",
       "0                        -0.036538                       -0.052777   \n",
       "1                        -0.036538                       -0.052777   \n",
       "2                        -0.036538                       -0.052777   \n",
       "3                        -0.036538                       -0.052777   \n",
       "4                        -0.036538                       -0.052777   \n",
       "\n",
       "   Provider Type_Unknown Physician Specialty Code  Provider Type_Urology  \\\n",
       "0                                       -0.014908              -0.079833   \n",
       "1                                       -0.014908              -0.079833   \n",
       "2                                       -0.014908              -0.079833   \n",
       "3                                       -0.014908              -0.079833   \n",
       "4                                       -0.014908              -0.079833   \n",
       "\n",
       "   Provider Type_Vascular Surgery  \n",
       "0                       -0.050061  \n",
       "1                       -0.050061  \n",
       "2                       -0.050061  \n",
       "3                       -0.050061  \n",
       "4                       -0.050061  \n",
       "\n",
       "[5 rows x 113 columns]"
      ]
     },
     "execution_count": 16,
     "metadata": {},
     "output_type": "execute_result"
    }
   ],
   "source": [
    "df2_stand.head()"
   ]
  },
  {
   "cell_type": "code",
   "execution_count": 94,
   "metadata": {},
   "outputs": [
    {
     "data": {
      "text/plain": [
       "0.22026430478438933"
      ]
     },
     "execution_count": 94,
     "metadata": {},
     "output_type": "execute_result"
    }
   ],
   "source": [
    "from sklearn.decomposition import PCA\n",
    "\n",
    "pca = PCA(n_components=8)\n",
    "pca.fit(df2_stand)\n",
    "X_train_pca = pca.transform(df2_stand)\n",
    "# X_test_pca = pca.transform(X_test_HD)\n",
    "\n",
    "np.sum(pca.explained_variance_ratio_)"
   ]
  },
  {
   "cell_type": "markdown",
   "metadata": {},
   "source": [
    "### Try 1 class svm"
   ]
  },
  {
   "cell_type": "code",
   "execution_count": 46,
   "metadata": {
    "collapsed": true
   },
   "outputs": [],
   "source": [
    "from sklearn import svm"
   ]
  },
  {
   "cell_type": "code",
   "execution_count": 82,
   "metadata": {},
   "outputs": [
    {
     "data": {
      "text/plain": [
       "OneClassSVM(cache_size=200, coef0=0.0, degree=3, gamma=0.0001, kernel='rbf',\n",
       "      max_iter=-1, nu=0.001, random_state=None, shrinking=True, tol=0.001,\n",
       "      verbose=False)"
      ]
     },
     "execution_count": 82,
     "metadata": {},
     "output_type": "execute_result"
    }
   ],
   "source": [
    "clf = svm.OneClassSVM(nu=0.001, kernel=\"rbf\", gamma = 0.0001)\n",
    "\n",
    "# np.random.seed(9001)\n",
    "msk = np.random.rand(len(X_train_pca)) < 0.9\n",
    "\n",
    "clf.fit(X_train_pca[msk])"
   ]
  },
  {
   "cell_type": "code",
   "execution_count": 83,
   "metadata": {
    "collapsed": true
   },
   "outputs": [],
   "source": [
    "risk = clf.decision_function(X_train_pca)"
   ]
  },
  {
   "cell_type": "code",
   "execution_count": 84,
   "metadata": {},
   "outputs": [
    {
     "data": {
      "text/plain": [
       "17996"
      ]
     },
     "execution_count": 84,
     "metadata": {},
     "output_type": "execute_result"
    }
   ],
   "source": [
    "len(np.unique(risk))"
   ]
  },
  {
   "cell_type": "code",
   "execution_count": 85,
   "metadata": {},
   "outputs": [
    {
     "data": {
      "text/plain": [
       "array([-10.04884227,  -9.26364906,  -6.99207562, ...,   0.59199673,\n",
       "         0.6138734 ,   0.6228742 ])"
      ]
     },
     "execution_count": 85,
     "metadata": {},
     "output_type": "execute_result"
    }
   ],
   "source": [
    "np.unique(risk)"
   ]
  },
  {
   "cell_type": "code",
   "execution_count": 86,
   "metadata": {},
   "outputs": [
    {
     "data": {
      "image/png": "[encoded data removed]",
      "text/plain": [
       "<matplotlib.figure.Figure at 0x1109847f0>"
      ]
     },
     "metadata": {},
     "output_type": "display_data"
    }
   ],
   "source": [
    "plt.hist(risk, bins = 50);"
   ]
  },
  {
   "cell_type": "code",
   "execution_count": 100,
   "metadata": {},
   "outputs": [
    {
     "data": {
      "image/png": "[encoded data removed]",
      "text/plain": [
       "<matplotlib.figure.Figure at 0x117dd6198>"
      ]
     },
     "metadata": {},
     "output_type": "display_data"
    }
   ],
   "source": [
    "# standardize risk\n",
    "sns.set_context('poster')\n",
    "risk_std = (risk - risk.mean())/risk.std()\n",
    "plt.hist(risk_std, bins = 50);"
   ]
  },
  {
   "cell_type": "code",
   "execution_count": 87,
   "metadata": {
    "collapsed": true
   },
   "outputs": [],
   "source": [
    "submission = pd.DataFrame(df['Doctor Identifier'])\n",
    "submission['Risk'] = risk**2\n",
    "submission.reset_index()\n",
    "submission = submission.sort_values(['Risk'], ascending = False)\n",
    "\n",
    "submission.to_csv('/Users/kate_zym/Documents/GitHub/datachallenge/svm12.csv', index = False, header = True)"
   ]
  },
  {
   "cell_type": "code",
   "execution_count": null,
   "metadata": {
    "collapsed": true
   },
   "outputs": [],
   "source": []
  },
  {
   "cell_type": "code",
   "execution_count": 105,
   "metadata": {},
   "outputs": [],
   "source": [
    "# order the risk\n",
    "\n",
    "test = pd.read_csv('svm12.csv')\n",
    "test = test.sort_values(['Doctor Identifier'], ascending = True)\n",
    "\n",
    "id_ordered = test['Doctor Identifier']"
   ]
  },
  {
   "cell_type": "code",
   "execution_count": 106,
   "metadata": {},
   "outputs": [
    {
     "data": {
      "text/plain": [
       "348      100068986\n",
       "2798     100111109\n",
       "13933    100191187\n",
       "14048    100221241\n",
       "8222     100270900\n",
       "9634     100333837\n",
       "10627    100336958\n",
       "11538    100360522\n",
       "14850    100414312\n",
       "17196    100500717\n",
       "13564    100523519\n",
       "5229     100538890\n",
       "16905    100570261\n",
       "2683     100570730\n",
       "2191     100575818\n",
       "1255     100663426\n",
       "4668     100671167\n",
       "6703     100719666\n",
       "13583    100750431\n",
       "15438    100835610\n",
       "11909    100843341\n",
       "5844     100953690\n",
       "11010    101120911\n",
       "708      101170099\n",
       "1814     101299765\n",
       "13084    101334777\n",
       "14476    101367176\n",
       "225      101386523\n",
       "14883    101414783\n",
       "9422     101489408\n",
       "           ...    \n",
       "3316     998338708\n",
       "8900     998358397\n",
       "16596    998412869\n",
       "6977     998442454\n",
       "2971     998463882\n",
       "14646    998477122\n",
       "119      998530672\n",
       "5098     998564066\n",
       "11111    998581084\n",
       "5910     998743880\n",
       "13227    998821105\n",
       "3975     998851281\n",
       "2013     998916077\n",
       "4122     999163701\n",
       "9267     999243534\n",
       "2335     999325483\n",
       "4020     999360630\n",
       "1536     999373525\n",
       "1189     999391437\n",
       "2627     999400013\n",
       "8974     999463747\n",
       "16448    999466111\n",
       "9889     999532814\n",
       "10051    999617137\n",
       "4892     999817876\n",
       "11242    999880117\n",
       "8876     999899054\n",
       "728      999921159\n",
       "15939    999935329\n",
       "9172     999951626\n",
       "Name: Doctor Identifier, Length: 18000, dtype: int64"
      ]
     },
     "execution_count": 106,
     "metadata": {},
     "output_type": "execute_result"
    }
   ],
   "source": [
    "id_ordered"
   ]
  },
  {
   "cell_type": "markdown",
   "metadata": {},
   "source": [
    "## Cross validation"
   ]
  },
  {
   "cell_type": "code",
   "execution_count": 101,
   "metadata": {
    "collapsed": true
   },
   "outputs": [],
   "source": [
    "from sklearn.model_selection import KFold"
   ]
  },
  {
   "cell_type": "code",
   "execution_count": 154,
   "metadata": {
    "collapsed": true
   },
   "outputs": [],
   "source": [
    "scores = np.zeros(5)\n"
   ]
  },
  {
   "cell_type": "code",
   "execution_count": 155,
   "metadata": {},
   "outputs": [],
   "source": [
    "n_folds =5;\n",
    "nus = [0.0001, 0.0005, 0.001, 0.0025, 0.005]\n",
    "gammas = [0.00005, 0.00075, 0.0001, 0.00025, 0.001]\n",
    "\n",
    "All_Scores = np.zeros(25)\n",
    "count = 0;\n",
    "\n",
    "for n in nus:\n",
    "    for g  in gammas:\n",
    "        \n",
    "        compare = np.empty([18000, 1]);\n",
    "        \n",
    "        for train, valid in KFold(n_folds, shuffle=True).split(range(len(X_train_pca))):\n",
    "            clf_cv = svm.OneClassSVM(nu=n, kernel=\"rbf\", gamma = g)\n",
    "            clf_cv.fit(X_train_pca[train,:])\n",
    "            \n",
    "            risk = clf.decision_function(X_train_pca)\n",
    "            \n",
    "            # sort by doctor IDs\n",
    "            result = pd.DataFrame(df['Doctor Identifier']);\n",
    "            result['Risk'] = risk**2\n",
    "            result.reset_index()\n",
    "            result = result.sort_values(['Risk'], ascending = False)\n",
    "            \n",
    "            result = result.sort_values(['Doctor Identifier'], ascending = True)\n",
    "\n",
    "            id_ordered = result['Doctor Identifier'].values.reshape(-1,1)\n",
    "            \n",
    "            \n",
    "            # hstack them\n",
    "            compare = np.hstack([compare, id_ordered])\n",
    "#             print(compare.shape)\n",
    "            \n",
    "        \n",
    "        df_compare = pd.DataFrame(compare[:, 1:], columns=['fold_1', 'fold_2', 'fold_3', 'fold_4', 'fold_5'])\n",
    "        min_score = len(X_train_pca)\n",
    "        \n",
    "        for ind1 in range(0,5):\n",
    "            for ind2 in range(0,5):\n",
    "                score = np.sum(df_compare.iloc[:, ind1] == df_compare.iloc[:, ind2])\n",
    "                \n",
    "                if score < min_score:\n",
    "                    min_score =score\n",
    "                    \n",
    "        \n",
    "        All_Scores[count] = min_score;\n",
    "        \n",
    "        count = count +1 ;\n",
    "        "
   ]
  },
  {
   "cell_type": "code",
   "execution_count": 157,
   "metadata": {},
   "outputs": [
    {
     "data": {
      "text/plain": [
       "array([ 18000.,  18000.,  18000.,  18000.,  18000.,  18000.,  18000.,\n",
       "        18000.,  18000.,  18000.,  18000.,  18000.,  18000.,  18000.,\n",
       "        18000.,  18000.,  18000.,  18000.,  18000.,  18000.,  18000.,\n",
       "        18000.,  18000.,  18000.,  18000.])"
      ]
     },
     "execution_count": 157,
     "metadata": {},
     "output_type": "execute_result"
    }
   ],
   "source": [
    "All_Scores"
   ]
  },
  {
   "cell_type": "code",
   "execution_count": 146,
   "metadata": {},
   "outputs": [
    {
     "data": {
      "text/plain": [
       "(17999, 6)"
      ]
     },
     "execution_count": 146,
     "metadata": {},
     "output_type": "execute_result"
    }
   ],
   "source": [
    "compare[1:, :].shape"
   ]
  },
  {
   "cell_type": "code",
   "execution_count": 153,
   "metadata": {},
   "outputs": [
    {
     "data": {
      "text/plain": [
       "18000"
      ]
     },
     "execution_count": 153,
     "metadata": {},
     "output_type": "execute_result"
    }
   ],
   "source": [
    "\n",
    "df_compare = pd.DataFrame(compare[:, 1:], columns=['fold_1', 'fold_2', 'fold_3', 'fold_4', 'fold_5'])\n",
    "np.sum(df_compare['fold_1'] == df_compare['fold_3'])"
   ]
  },
  {
   "cell_type": "code",
   "execution_count": 121,
   "metadata": {},
   "outputs": [
    {
     "data": {
      "text/plain": [
       "(array([ 1740.,  1845.,  1822.,  1828.,  1899.,  1712.,  1848.,  1762.,\n",
       "         1781.,  1763.]),\n",
       " array([  1.00068986e+08,   1.90057250e+08,   2.80045514e+08,\n",
       "          3.70033778e+08,   4.60022042e+08,   5.50010306e+08,\n",
       "          6.39998570e+08,   7.29986834e+08,   8.19975098e+08,\n",
       "          9.09963362e+08,   9.99951626e+08]),\n",
       " <a list of 10 Patch objects>)"
      ]
     },
     "execution_count": 121,
     "metadata": {},
     "output_type": "execute_result"
    },
    {
     "data": {
      "image/png": "[encoded data removed]",
      "text/plain": [
       "<matplotlib.figure.Figure at 0x110656550>"
      ]
     },
     "metadata": {},
     "output_type": "display_data"
    }
   ],
   "source": [
    "plt.hist(df['Doctor Identifier'])"
   ]
  },
  {
   "cell_type": "code",
   "execution_count": 132,
   "metadata": {},
   "outputs": [
    {
     "data": {
      "text/plain": [
       "(5,)"
      ]
     },
     "execution_count": 132,
     "metadata": {},
     "output_type": "execute_result"
    }
   ],
   "source": [
    "X_train_pca[5:10, 6].shape"
   ]
  },
  {
   "cell_type": "code",
   "execution_count": null,
   "metadata": {
    "collapsed": true
   },
   "outputs": [],
   "source": []
  }
 ],
 "metadata": {
  "kernelspec": {
   "display_name": "Python 3",
   "language": "python",
   "name": "python3"
  },
  "language_info": {
   "codemirror_mode": {
    "name": "ipython",
    "version": 3
   },
   "file_extension": ".py",
   "mimetype": "text/x-python",
   "name": "python",
   "nbconvert_exporter": "python",
   "pygments_lexer": "ipython3",
   "version": "3.6.1"
  }
 },
 "nbformat": 4,
 "nbformat_minor": 2
}
