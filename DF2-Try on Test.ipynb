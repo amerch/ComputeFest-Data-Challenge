{
 "cells": [
  {
   "cell_type": "markdown",
   "metadata": {},
   "source": [
    "# Student Data Challenge Jan 2018"
   ]
  },
  {
   "cell_type": "code",
   "execution_count": 1,
   "metadata": {
    "collapsed": true
   },
   "outputs": [],
   "source": [
    "# packages\n",
    "import numpy as np\n",
    "import pandas as pd\n",
    "import matplotlib\n",
    "import matplotlib.pyplot as plt\n",
    "import sklearn.metrics as metrics\n",
    "from sklearn.model_selection import cross_val_score\n",
    "from sklearn import tree\n",
    "from sklearn import ensemble\n",
    "from sklearn.tree import DecisionTreeClassifier\n",
    "from sklearn.ensemble import RandomForestClassifier\n",
    "from sklearn.ensemble import RandomForestRegressor\n",
    "from sklearn.ensemble import AdaBoostClassifier\n",
    "from sklearn.linear_model import LogisticRegressionCV\n",
    "from sklearn import tree\n",
    "from sklearn.metrics import confusion_matrix\n",
    "from sklearn.model_selection import GridSearchCV\n",
    "from sklearn.model_selection import KFold\n",
    "from itertools import product\n",
    "from collections import OrderedDict ### data structure.. for laziness\n",
    "import seaborn as sns\n",
    "import operator\n",
    "%matplotlib inline"
   ]
  },
  {
   "cell_type": "markdown",
   "metadata": {},
   "source": [
    "### new plain"
   ]
  },
  {
   "cell_type": "code",
   "execution_count": 25,
   "metadata": {
    "scrolled": true
   },
   "outputs": [
    {
     "data": {
      "text/html": [
       "<div>\n",
       "<style>\n",
       "    .dataframe thead tr:only-child th {\n",
       "        text-align: right;\n",
       "    }\n",
       "\n",
       "    .dataframe thead th {\n",
       "        text-align: left;\n",
       "    }\n",
       "\n",
       "    .dataframe tbody tr th {\n",
       "        vertical-align: top;\n",
       "    }\n",
       "</style>\n",
       "<table border=\"1\" class=\"dataframe\">\n",
       "  <thead>\n",
       "    <tr style=\"text-align: right;\">\n",
       "      <th></th>\n",
       "      <th>Doctor Identifier</th>\n",
       "      <th>Provider Type</th>\n",
       "      <th>Number of Services</th>\n",
       "      <th>Number of Beneficiaries</th>\n",
       "      <th>Total Submitted Charge Amount</th>\n",
       "      <th>Total Allowed Amount</th>\n",
       "      <th>Total Payment Amount</th>\n",
       "      <th>Total Standardized Payment Amount</th>\n",
       "      <th>Number of Drug Services</th>\n",
       "      <th>Total Drug Submitted Charge Amount</th>\n",
       "      <th>...</th>\n",
       "      <th>Percent Depression</th>\n",
       "      <th>Percent Diabetes</th>\n",
       "      <th>Percent Hyperlipidemia</th>\n",
       "      <th>Percent Hypertension</th>\n",
       "      <th>Percent Ischemic Heart Disease</th>\n",
       "      <th>Percent Osteoporosis</th>\n",
       "      <th>Percent Rheumatoid Arthritis or Osteoarthritis</th>\n",
       "      <th>Percent Schizophrenia or Other Psychotic Disorders</th>\n",
       "      <th>Percent Stroke</th>\n",
       "      <th>Average HCC Risk Score of Beneficiaries</th>\n",
       "    </tr>\n",
       "  </thead>\n",
       "  <tbody>\n",
       "    <tr>\n",
       "      <th>0</th>\n",
       "      <td>749706007</td>\n",
       "      <td>Ophthalmology</td>\n",
       "      <td>550</td>\n",
       "      <td>186</td>\n",
       "      <td>155243.0</td>\n",
       "      <td>38428.13</td>\n",
       "      <td>28159.90</td>\n",
       "      <td>32430.12</td>\n",
       "      <td>0</td>\n",
       "      <td>0.0</td>\n",
       "      <td>...</td>\n",
       "      <td>75.0</td>\n",
       "      <td>31.00</td>\n",
       "      <td>49.00</td>\n",
       "      <td>65.0</td>\n",
       "      <td>34.00</td>\n",
       "      <td>10.00</td>\n",
       "      <td>39.0</td>\n",
       "      <td>30.00</td>\n",
       "      <td>0.77</td>\n",
       "      <td>1.63</td>\n",
       "    </tr>\n",
       "    <tr>\n",
       "      <th>1</th>\n",
       "      <td>792886048</td>\n",
       "      <td>Mass Immunization Roster Biller</td>\n",
       "      <td>70</td>\n",
       "      <td>31</td>\n",
       "      <td>27977.0</td>\n",
       "      <td>6598.35</td>\n",
       "      <td>5126.31</td>\n",
       "      <td>5415.16</td>\n",
       "      <td>0</td>\n",
       "      <td>0.0</td>\n",
       "      <td>...</td>\n",
       "      <td>42.0</td>\n",
       "      <td>55.00</td>\n",
       "      <td>75.00</td>\n",
       "      <td>75.0</td>\n",
       "      <td>55.00</td>\n",
       "      <td>0.11</td>\n",
       "      <td>61.0</td>\n",
       "      <td>0.12</td>\n",
       "      <td>0.09</td>\n",
       "      <td>2.69</td>\n",
       "    </tr>\n",
       "    <tr>\n",
       "      <th>2</th>\n",
       "      <td>150847842</td>\n",
       "      <td>Internal Medicine</td>\n",
       "      <td>332</td>\n",
       "      <td>274</td>\n",
       "      <td>76368.0</td>\n",
       "      <td>32198.65</td>\n",
       "      <td>23587.80</td>\n",
       "      <td>27466.97</td>\n",
       "      <td>0</td>\n",
       "      <td>0.0</td>\n",
       "      <td>...</td>\n",
       "      <td>46.0</td>\n",
       "      <td>33.00</td>\n",
       "      <td>47.00</td>\n",
       "      <td>62.0</td>\n",
       "      <td>20.00</td>\n",
       "      <td>7.00</td>\n",
       "      <td>34.0</td>\n",
       "      <td>5.00</td>\n",
       "      <td>0.92</td>\n",
       "      <td>1.54</td>\n",
       "    </tr>\n",
       "    <tr>\n",
       "      <th>3</th>\n",
       "      <td>182353131</td>\n",
       "      <td>Family Practice</td>\n",
       "      <td>2166</td>\n",
       "      <td>89</td>\n",
       "      <td>142010.0</td>\n",
       "      <td>56909.87</td>\n",
       "      <td>43688.12</td>\n",
       "      <td>42211.25</td>\n",
       "      <td>0</td>\n",
       "      <td>0.0</td>\n",
       "      <td>...</td>\n",
       "      <td>21.0</td>\n",
       "      <td>16.00</td>\n",
       "      <td>51.00</td>\n",
       "      <td>52.0</td>\n",
       "      <td>19.00</td>\n",
       "      <td>0.68</td>\n",
       "      <td>72.0</td>\n",
       "      <td>0.63</td>\n",
       "      <td>0.53</td>\n",
       "      <td>0.87</td>\n",
       "    </tr>\n",
       "    <tr>\n",
       "      <th>4</th>\n",
       "      <td>752086922</td>\n",
       "      <td>Internal Medicine</td>\n",
       "      <td>46</td>\n",
       "      <td>19</td>\n",
       "      <td>7662.0</td>\n",
       "      <td>2260.71</td>\n",
       "      <td>1772.46</td>\n",
       "      <td>1439.11</td>\n",
       "      <td>0</td>\n",
       "      <td>0.0</td>\n",
       "      <td>...</td>\n",
       "      <td>0.1</td>\n",
       "      <td>0.14</td>\n",
       "      <td>0.29</td>\n",
       "      <td>75.0</td>\n",
       "      <td>0.17</td>\n",
       "      <td>0.05</td>\n",
       "      <td>0.2</td>\n",
       "      <td>0.01</td>\n",
       "      <td>0.00</td>\n",
       "      <td>3.14</td>\n",
       "    </tr>\n",
       "  </tbody>\n",
       "</table>\n",
       "<p>5 rows × 31 columns</p>\n",
       "</div>"
      ],
      "text/plain": [
       "   Doctor Identifier                    Provider Type  Number of Services  \\\n",
       "0          749706007                    Ophthalmology                 550   \n",
       "1          792886048  Mass Immunization Roster Biller                  70   \n",
       "2          150847842                Internal Medicine                 332   \n",
       "3          182353131                  Family Practice                2166   \n",
       "4          752086922                Internal Medicine                  46   \n",
       "\n",
       "   Number of Beneficiaries  Total Submitted Charge Amount  \\\n",
       "0                      186                       155243.0   \n",
       "1                       31                        27977.0   \n",
       "2                      274                        76368.0   \n",
       "3                       89                       142010.0   \n",
       "4                       19                         7662.0   \n",
       "\n",
       "   Total Allowed Amount  Total Payment Amount  \\\n",
       "0              38428.13              28159.90   \n",
       "1               6598.35               5126.31   \n",
       "2              32198.65              23587.80   \n",
       "3              56909.87              43688.12   \n",
       "4               2260.71               1772.46   \n",
       "\n",
       "   Total Standardized Payment Amount  Number of Drug Services  \\\n",
       "0                           32430.12                        0   \n",
       "1                            5415.16                        0   \n",
       "2                           27466.97                        0   \n",
       "3                           42211.25                        0   \n",
       "4                            1439.11                        0   \n",
       "\n",
       "   Total Drug Submitted Charge Amount  \\\n",
       "0                                 0.0   \n",
       "1                                 0.0   \n",
       "2                                 0.0   \n",
       "3                                 0.0   \n",
       "4                                 0.0   \n",
       "\n",
       "                     ...                     Percent Depression   \\\n",
       "0                    ...                                    75.0   \n",
       "1                    ...                                    42.0   \n",
       "2                    ...                                    46.0   \n",
       "3                    ...                                    21.0   \n",
       "4                    ...                                     0.1   \n",
       "\n",
       "   Percent Diabetes   Percent Hyperlipidemia   Percent Hypertension   \\\n",
       "0              31.00                    49.00                   65.0   \n",
       "1              55.00                    75.00                   75.0   \n",
       "2              33.00                    47.00                   62.0   \n",
       "3              16.00                    51.00                   52.0   \n",
       "4               0.14                     0.29                   75.0   \n",
       "\n",
       "   Percent Ischemic Heart Disease   Percent Osteoporosis   \\\n",
       "0                            34.00                  10.00   \n",
       "1                            55.00                   0.11   \n",
       "2                            20.00                   7.00   \n",
       "3                            19.00                   0.68   \n",
       "4                             0.17                   0.05   \n",
       "\n",
       "   Percent Rheumatoid Arthritis or Osteoarthritis   \\\n",
       "0                                             39.0   \n",
       "1                                             61.0   \n",
       "2                                             34.0   \n",
       "3                                             72.0   \n",
       "4                                              0.2   \n",
       "\n",
       "   Percent Schizophrenia or Other Psychotic Disorders   Percent Stroke   \\\n",
       "0                                              30.00               0.77   \n",
       "1                                               0.12               0.09   \n",
       "2                                               5.00               0.92   \n",
       "3                                               0.63               0.53   \n",
       "4                                               0.01               0.00   \n",
       "\n",
       "   Average HCC Risk Score of Beneficiaries   \n",
       "0                                      1.63  \n",
       "1                                      2.69  \n",
       "2                                      1.54  \n",
       "3                                      0.87  \n",
       "4                                      3.14  \n",
       "\n",
       "[5 rows x 31 columns]"
      ]
     },
     "execution_count": 25,
     "metadata": {},
     "output_type": "execute_result"
    }
   ],
   "source": [
    "# plain data\n",
    "df = pd.read_csv('X_test.csv')\n",
    "df.head()"
   ]
  },
  {
   "cell_type": "code",
   "execution_count": 26,
   "metadata": {},
   "outputs": [
    {
     "data": {
      "text/html": [
       "<div>\n",
       "<style>\n",
       "    .dataframe thead tr:only-child th {\n",
       "        text-align: right;\n",
       "    }\n",
       "\n",
       "    .dataframe thead th {\n",
       "        text-align: left;\n",
       "    }\n",
       "\n",
       "    .dataframe tbody tr th {\n",
       "        vertical-align: top;\n",
       "    }\n",
       "</style>\n",
       "<table border=\"1\" class=\"dataframe\">\n",
       "  <thead>\n",
       "    <tr style=\"text-align: right;\">\n",
       "      <th></th>\n",
       "      <th>Provider Type</th>\n",
       "      <th>Number of Services</th>\n",
       "      <th>Number of Beneficiaries</th>\n",
       "      <th>Total Submitted Charge Amount</th>\n",
       "      <th>Total Allowed Amount</th>\n",
       "      <th>Total Payment Amount</th>\n",
       "      <th>Total Standardized Payment Amount</th>\n",
       "      <th>Number of Drug Services</th>\n",
       "      <th>Total Drug Submitted Charge Amount</th>\n",
       "      <th>Total Drug Allowed Amount</th>\n",
       "      <th>...</th>\n",
       "      <th>Percent Depression</th>\n",
       "      <th>Percent Diabetes</th>\n",
       "      <th>Percent Hyperlipidemia</th>\n",
       "      <th>Percent Hypertension</th>\n",
       "      <th>Percent Ischemic Heart Disease</th>\n",
       "      <th>Percent Osteoporosis</th>\n",
       "      <th>Percent Rheumatoid Arthritis or Osteoarthritis</th>\n",
       "      <th>Percent Schizophrenia or Other Psychotic Disorders</th>\n",
       "      <th>Percent Stroke</th>\n",
       "      <th>Average HCC Risk Score of Beneficiaries</th>\n",
       "    </tr>\n",
       "  </thead>\n",
       "  <tbody>\n",
       "    <tr>\n",
       "      <th>0</th>\n",
       "      <td>Ophthalmology</td>\n",
       "      <td>550</td>\n",
       "      <td>186</td>\n",
       "      <td>155243.0</td>\n",
       "      <td>38428.13</td>\n",
       "      <td>28159.90</td>\n",
       "      <td>32430.12</td>\n",
       "      <td>0</td>\n",
       "      <td>0.0</td>\n",
       "      <td>0.0</td>\n",
       "      <td>...</td>\n",
       "      <td>75.0</td>\n",
       "      <td>31.00</td>\n",
       "      <td>49.00</td>\n",
       "      <td>65.0</td>\n",
       "      <td>34.00</td>\n",
       "      <td>10.00</td>\n",
       "      <td>39.0</td>\n",
       "      <td>30.00</td>\n",
       "      <td>0.77</td>\n",
       "      <td>1.63</td>\n",
       "    </tr>\n",
       "    <tr>\n",
       "      <th>1</th>\n",
       "      <td>Mass Immunization Roster Biller</td>\n",
       "      <td>70</td>\n",
       "      <td>31</td>\n",
       "      <td>27977.0</td>\n",
       "      <td>6598.35</td>\n",
       "      <td>5126.31</td>\n",
       "      <td>5415.16</td>\n",
       "      <td>0</td>\n",
       "      <td>0.0</td>\n",
       "      <td>0.0</td>\n",
       "      <td>...</td>\n",
       "      <td>42.0</td>\n",
       "      <td>55.00</td>\n",
       "      <td>75.00</td>\n",
       "      <td>75.0</td>\n",
       "      <td>55.00</td>\n",
       "      <td>0.11</td>\n",
       "      <td>61.0</td>\n",
       "      <td>0.12</td>\n",
       "      <td>0.09</td>\n",
       "      <td>2.69</td>\n",
       "    </tr>\n",
       "    <tr>\n",
       "      <th>2</th>\n",
       "      <td>Internal Medicine</td>\n",
       "      <td>332</td>\n",
       "      <td>274</td>\n",
       "      <td>76368.0</td>\n",
       "      <td>32198.65</td>\n",
       "      <td>23587.80</td>\n",
       "      <td>27466.97</td>\n",
       "      <td>0</td>\n",
       "      <td>0.0</td>\n",
       "      <td>0.0</td>\n",
       "      <td>...</td>\n",
       "      <td>46.0</td>\n",
       "      <td>33.00</td>\n",
       "      <td>47.00</td>\n",
       "      <td>62.0</td>\n",
       "      <td>20.00</td>\n",
       "      <td>7.00</td>\n",
       "      <td>34.0</td>\n",
       "      <td>5.00</td>\n",
       "      <td>0.92</td>\n",
       "      <td>1.54</td>\n",
       "    </tr>\n",
       "    <tr>\n",
       "      <th>3</th>\n",
       "      <td>Family Practice</td>\n",
       "      <td>2166</td>\n",
       "      <td>89</td>\n",
       "      <td>142010.0</td>\n",
       "      <td>56909.87</td>\n",
       "      <td>43688.12</td>\n",
       "      <td>42211.25</td>\n",
       "      <td>0</td>\n",
       "      <td>0.0</td>\n",
       "      <td>0.0</td>\n",
       "      <td>...</td>\n",
       "      <td>21.0</td>\n",
       "      <td>16.00</td>\n",
       "      <td>51.00</td>\n",
       "      <td>52.0</td>\n",
       "      <td>19.00</td>\n",
       "      <td>0.68</td>\n",
       "      <td>72.0</td>\n",
       "      <td>0.63</td>\n",
       "      <td>0.53</td>\n",
       "      <td>0.87</td>\n",
       "    </tr>\n",
       "    <tr>\n",
       "      <th>4</th>\n",
       "      <td>Internal Medicine</td>\n",
       "      <td>46</td>\n",
       "      <td>19</td>\n",
       "      <td>7662.0</td>\n",
       "      <td>2260.71</td>\n",
       "      <td>1772.46</td>\n",
       "      <td>1439.11</td>\n",
       "      <td>0</td>\n",
       "      <td>0.0</td>\n",
       "      <td>0.0</td>\n",
       "      <td>...</td>\n",
       "      <td>0.1</td>\n",
       "      <td>0.14</td>\n",
       "      <td>0.29</td>\n",
       "      <td>75.0</td>\n",
       "      <td>0.17</td>\n",
       "      <td>0.05</td>\n",
       "      <td>0.2</td>\n",
       "      <td>0.01</td>\n",
       "      <td>0.00</td>\n",
       "      <td>3.14</td>\n",
       "    </tr>\n",
       "  </tbody>\n",
       "</table>\n",
       "<p>5 rows × 30 columns</p>\n",
       "</div>"
      ],
      "text/plain": [
       "                     Provider Type  Number of Services  \\\n",
       "0                    Ophthalmology                 550   \n",
       "1  Mass Immunization Roster Biller                  70   \n",
       "2                Internal Medicine                 332   \n",
       "3                  Family Practice                2166   \n",
       "4                Internal Medicine                  46   \n",
       "\n",
       "   Number of Beneficiaries  Total Submitted Charge Amount  \\\n",
       "0                      186                       155243.0   \n",
       "1                       31                        27977.0   \n",
       "2                      274                        76368.0   \n",
       "3                       89                       142010.0   \n",
       "4                       19                         7662.0   \n",
       "\n",
       "   Total Allowed Amount  Total Payment Amount  \\\n",
       "0              38428.13              28159.90   \n",
       "1               6598.35               5126.31   \n",
       "2              32198.65              23587.80   \n",
       "3              56909.87              43688.12   \n",
       "4               2260.71               1772.46   \n",
       "\n",
       "   Total Standardized Payment Amount  Number of Drug Services  \\\n",
       "0                           32430.12                        0   \n",
       "1                            5415.16                        0   \n",
       "2                           27466.97                        0   \n",
       "3                           42211.25                        0   \n",
       "4                            1439.11                        0   \n",
       "\n",
       "   Total Drug Submitted Charge Amount  Total Drug Allowed Amount   \\\n",
       "0                                 0.0                         0.0   \n",
       "1                                 0.0                         0.0   \n",
       "2                                 0.0                         0.0   \n",
       "3                                 0.0                         0.0   \n",
       "4                                 0.0                         0.0   \n",
       "\n",
       "                     ...                     Percent Depression   \\\n",
       "0                    ...                                    75.0   \n",
       "1                    ...                                    42.0   \n",
       "2                    ...                                    46.0   \n",
       "3                    ...                                    21.0   \n",
       "4                    ...                                     0.1   \n",
       "\n",
       "   Percent Diabetes   Percent Hyperlipidemia   Percent Hypertension   \\\n",
       "0              31.00                    49.00                   65.0   \n",
       "1              55.00                    75.00                   75.0   \n",
       "2              33.00                    47.00                   62.0   \n",
       "3              16.00                    51.00                   52.0   \n",
       "4               0.14                     0.29                   75.0   \n",
       "\n",
       "   Percent Ischemic Heart Disease   Percent Osteoporosis   \\\n",
       "0                            34.00                  10.00   \n",
       "1                            55.00                   0.11   \n",
       "2                            20.00                   7.00   \n",
       "3                            19.00                   0.68   \n",
       "4                             0.17                   0.05   \n",
       "\n",
       "   Percent Rheumatoid Arthritis or Osteoarthritis   \\\n",
       "0                                             39.0   \n",
       "1                                             61.0   \n",
       "2                                             34.0   \n",
       "3                                             72.0   \n",
       "4                                              0.2   \n",
       "\n",
       "   Percent Schizophrenia or Other Psychotic Disorders   Percent Stroke   \\\n",
       "0                                              30.00               0.77   \n",
       "1                                               0.12               0.09   \n",
       "2                                               5.00               0.92   \n",
       "3                                               0.63               0.53   \n",
       "4                                               0.01               0.00   \n",
       "\n",
       "   Average HCC Risk Score of Beneficiaries   \n",
       "0                                      1.63  \n",
       "1                                      2.69  \n",
       "2                                      1.54  \n",
       "3                                      0.87  \n",
       "4                                      3.14  \n",
       "\n",
       "[5 rows x 30 columns]"
      ]
     },
     "execution_count": 26,
     "metadata": {},
     "output_type": "execute_result"
    }
   ],
   "source": [
    "\n",
    "\n",
    "# plain data\n",
    "df2 = pd.read_csv('X_train.csv')\n",
    "df2 = df2.drop(['Doctor Identifier'], axis = 1)\n",
    "df2.head()\n",
    "\n",
    "# plain data\n",
    "df2_test = pd.read_csv('X_test.csv')\n",
    "df2_test = df2_test.drop(['Doctor Identifier'], axis = 1)\n",
    "df2_test.head()"
   ]
  },
  {
   "cell_type": "code",
   "execution_count": 27,
   "metadata": {},
   "outputs": [
    {
     "name": "stdout",
     "output_type": "stream",
     "text": [
      "(18000, 30)\n",
      "(9743, 30)\n"
     ]
    }
   ],
   "source": [
    "print(df2.shape)\n",
    "print(df2_test.shape)"
   ]
  },
  {
   "cell_type": "code",
   "execution_count": 28,
   "metadata": {},
   "outputs": [],
   "source": [
    "# df_ohe2 = pd.get_dummies(df2, 'Provider Type')\n",
    "# df_ohe2.head()\n",
    "\n",
    "# df_ohe2_test = pd.get_dummies(df2_test, 'Provider Type')\n",
    "# df_ohe2_test.head()"
   ]
  },
  {
   "cell_type": "code",
   "execution_count": 29,
   "metadata": {
    "collapsed": true
   },
   "outputs": [],
   "source": [
    "df2_nocat = df2.drop(['Provider Type'], axis = 1)\n",
    "df2_test_nocat = df2_test.drop(['Provider Type'], axis =1)"
   ]
  },
  {
   "cell_type": "code",
   "execution_count": 30,
   "metadata": {},
   "outputs": [],
   "source": [
    "df2_stand = (df2_nocat - df2_nocat.mean())/(df2_nocat.std())\n",
    "df2_stand_test = (df2_test_nocat - df2_test_nocat.mean())/ (df2_test_nocat.std())"
   ]
  },
  {
   "cell_type": "code",
   "execution_count": 31,
   "metadata": {},
   "outputs": [
    {
     "data": {
      "text/plain": [
       "(9743, 29)"
      ]
     },
     "execution_count": 31,
     "metadata": {},
     "output_type": "execute_result"
    }
   ],
   "source": [
    "df2_stand_test.shape"
   ]
  },
  {
   "cell_type": "code",
   "execution_count": 32,
   "metadata": {},
   "outputs": [
    {
     "data": {
      "text/plain": [
       "(18000, 29)"
      ]
     },
     "execution_count": 32,
     "metadata": {},
     "output_type": "execute_result"
    }
   ],
   "source": [
    "df2_stand.shape"
   ]
  },
  {
   "cell_type": "code",
   "execution_count": 33,
   "metadata": {},
   "outputs": [
    {
     "data": {
      "text/plain": [
       "Index(['Number of Services', 'Number of Beneficiaries',\n",
       "       'Total Submitted Charge Amount', 'Total Allowed Amount',\n",
       "       'Total Payment Amount', 'Total Standardized Payment Amount',\n",
       "       'Number of Drug Services', 'Total Drug Submitted Charge Amount',\n",
       "       'Total Drug Allowed Amount ', 'Total Drug Payment Amount ',\n",
       "       'Total Drug Standardized Payment Amount', 'Number of Medical Services',\n",
       "       'Percent Atrial Fibrillation',\n",
       "       'Percent Alzheimer’s Disease or Dementia ', 'Percent Asthma ',\n",
       "       'Percent Cancer ', 'Percent Heart Failure ',\n",
       "       'Percent Chronic Kidney Disease',\n",
       "       'Percent Chronic Obstructive Pulmonary Disease', 'Percent Depression ',\n",
       "       'Percent Diabetes ', 'Percent Hyperlipidemia ', 'Percent Hypertension ',\n",
       "       'Percent Ischemic Heart Disease ', 'Percent Osteoporosis ',\n",
       "       'Percent Rheumatoid Arthritis or Osteoarthritis ',\n",
       "       'Percent Schizophrenia or Other Psychotic Disorders ',\n",
       "       'Percent Stroke ', 'Average HCC Risk Score of Beneficiaries '],\n",
       "      dtype='object')"
      ]
     },
     "execution_count": 33,
     "metadata": {},
     "output_type": "execute_result"
    }
   ],
   "source": [
    "df2_stand_test.columns"
   ]
  },
  {
   "cell_type": "markdown",
   "metadata": {},
   "source": [
    "### use pca"
   ]
  },
  {
   "cell_type": "code",
   "execution_count": 34,
   "metadata": {
    "scrolled": true
   },
   "outputs": [
    {
     "data": {
      "text/html": [
       "<div>\n",
       "<style>\n",
       "    .dataframe thead tr:only-child th {\n",
       "        text-align: right;\n",
       "    }\n",
       "\n",
       "    .dataframe thead th {\n",
       "        text-align: left;\n",
       "    }\n",
       "\n",
       "    .dataframe tbody tr th {\n",
       "        vertical-align: top;\n",
       "    }\n",
       "</style>\n",
       "<table border=\"1\" class=\"dataframe\">\n",
       "  <thead>\n",
       "    <tr style=\"text-align: right;\">\n",
       "      <th></th>\n",
       "      <th>Number of Services</th>\n",
       "      <th>Number of Beneficiaries</th>\n",
       "      <th>Total Submitted Charge Amount</th>\n",
       "      <th>Total Allowed Amount</th>\n",
       "      <th>Total Payment Amount</th>\n",
       "      <th>Total Standardized Payment Amount</th>\n",
       "      <th>Number of Drug Services</th>\n",
       "      <th>Total Drug Submitted Charge Amount</th>\n",
       "      <th>Total Drug Allowed Amount</th>\n",
       "      <th>Total Drug Payment Amount</th>\n",
       "      <th>...</th>\n",
       "      <th>Percent Depression</th>\n",
       "      <th>Percent Diabetes</th>\n",
       "      <th>Percent Hyperlipidemia</th>\n",
       "      <th>Percent Hypertension</th>\n",
       "      <th>Percent Ischemic Heart Disease</th>\n",
       "      <th>Percent Osteoporosis</th>\n",
       "      <th>Percent Rheumatoid Arthritis or Osteoarthritis</th>\n",
       "      <th>Percent Schizophrenia or Other Psychotic Disorders</th>\n",
       "      <th>Percent Stroke</th>\n",
       "      <th>Average HCC Risk Score of Beneficiaries</th>\n",
       "    </tr>\n",
       "  </thead>\n",
       "  <tbody>\n",
       "    <tr>\n",
       "      <th>0</th>\n",
       "      <td>-0.054055</td>\n",
       "      <td>-0.149748</td>\n",
       "      <td>-0.119307</td>\n",
       "      <td>-0.114199</td>\n",
       "      <td>-0.104583</td>\n",
       "      <td>-0.107071</td>\n",
       "      <td>-0.082824</td>\n",
       "      <td>-0.049353</td>\n",
       "      <td>-0.059193</td>\n",
       "      <td>-0.061618</td>\n",
       "      <td>...</td>\n",
       "      <td>2.029613</td>\n",
       "      <td>-0.519895</td>\n",
       "      <td>-0.433808</td>\n",
       "      <td>-0.481535</td>\n",
       "      <td>-1.331699</td>\n",
       "      <td>-0.917456</td>\n",
       "      <td>-0.729602</td>\n",
       "      <td>0.888770</td>\n",
       "      <td>-0.577676</td>\n",
       "      <td>-0.424243</td>\n",
       "    </tr>\n",
       "    <tr>\n",
       "      <th>1</th>\n",
       "      <td>0.078102</td>\n",
       "      <td>-0.072822</td>\n",
       "      <td>-0.065654</td>\n",
       "      <td>-0.027317</td>\n",
       "      <td>-0.031873</td>\n",
       "      <td>-0.029775</td>\n",
       "      <td>0.895218</td>\n",
       "      <td>0.056516</td>\n",
       "      <td>0.095352</td>\n",
       "      <td>0.093158</td>\n",
       "      <td>...</td>\n",
       "      <td>0.402899</td>\n",
       "      <td>-0.147405</td>\n",
       "      <td>-0.083987</td>\n",
       "      <td>-0.191035</td>\n",
       "      <td>-0.364941</td>\n",
       "      <td>0.290397</td>\n",
       "      <td>0.091213</td>\n",
       "      <td>0.001469</td>\n",
       "      <td>0.689602</td>\n",
       "      <td>-0.070970</td>\n",
       "    </tr>\n",
       "    <tr>\n",
       "      <th>2</th>\n",
       "      <td>0.047712</td>\n",
       "      <td>0.150528</td>\n",
       "      <td>0.108427</td>\n",
       "      <td>0.303710</td>\n",
       "      <td>0.258498</td>\n",
       "      <td>0.242615</td>\n",
       "      <td>0.217930</td>\n",
       "      <td>0.067961</td>\n",
       "      <td>0.121605</td>\n",
       "      <td>0.117104</td>\n",
       "      <td>...</td>\n",
       "      <td>-0.484400</td>\n",
       "      <td>-0.457813</td>\n",
       "      <td>-0.283885</td>\n",
       "      <td>-0.142619</td>\n",
       "      <td>-0.211407</td>\n",
       "      <td>0.733917</td>\n",
       "      <td>1.678120</td>\n",
       "      <td>-0.240522</td>\n",
       "      <td>0.282988</td>\n",
       "      <td>-0.674479</td>\n",
       "    </tr>\n",
       "    <tr>\n",
       "      <th>3</th>\n",
       "      <td>-0.071510</td>\n",
       "      <td>-0.162481</td>\n",
       "      <td>-0.142895</td>\n",
       "      <td>-0.211279</td>\n",
       "      <td>-0.188993</td>\n",
       "      <td>-0.180335</td>\n",
       "      <td>-0.082824</td>\n",
       "      <td>-0.049353</td>\n",
       "      <td>-0.059193</td>\n",
       "      <td>-0.061618</td>\n",
       "      <td>...</td>\n",
       "      <td>-0.139340</td>\n",
       "      <td>-1.582111</td>\n",
       "      <td>0.615653</td>\n",
       "      <td>-0.142619</td>\n",
       "      <td>0.351554</td>\n",
       "      <td>-1.000246</td>\n",
       "      <td>0.091213</td>\n",
       "      <td>-0.527685</td>\n",
       "      <td>-0.631891</td>\n",
       "      <td>-0.836396</td>\n",
       "    </tr>\n",
       "    <tr>\n",
       "      <th>4</th>\n",
       "      <td>-0.067302</td>\n",
       "      <td>-0.166725</td>\n",
       "      <td>-0.138053</td>\n",
       "      <td>-0.208884</td>\n",
       "      <td>-0.183136</td>\n",
       "      <td>-0.182426</td>\n",
       "      <td>-0.082824</td>\n",
       "      <td>-0.049353</td>\n",
       "      <td>-0.059193</td>\n",
       "      <td>-0.061618</td>\n",
       "      <td>...</td>\n",
       "      <td>1.093020</td>\n",
       "      <td>3.018757</td>\n",
       "      <td>1.265320</td>\n",
       "      <td>0.728880</td>\n",
       "      <td>0.607445</td>\n",
       "      <td>-1.032771</td>\n",
       "      <td>1.076189</td>\n",
       "      <td>-0.563177</td>\n",
       "      <td>-0.661710</td>\n",
       "      <td>0.002629</td>\n",
       "    </tr>\n",
       "  </tbody>\n",
       "</table>\n",
       "<p>5 rows × 29 columns</p>\n",
       "</div>"
      ],
      "text/plain": [
       "   Number of Services  Number of Beneficiaries  Total Submitted Charge Amount  \\\n",
       "0           -0.054055                -0.149748                      -0.119307   \n",
       "1            0.078102                -0.072822                      -0.065654   \n",
       "2            0.047712                 0.150528                       0.108427   \n",
       "3           -0.071510                -0.162481                      -0.142895   \n",
       "4           -0.067302                -0.166725                      -0.138053   \n",
       "\n",
       "   Total Allowed Amount  Total Payment Amount  \\\n",
       "0             -0.114199             -0.104583   \n",
       "1             -0.027317             -0.031873   \n",
       "2              0.303710              0.258498   \n",
       "3             -0.211279             -0.188993   \n",
       "4             -0.208884             -0.183136   \n",
       "\n",
       "   Total Standardized Payment Amount  Number of Drug Services  \\\n",
       "0                          -0.107071                -0.082824   \n",
       "1                          -0.029775                 0.895218   \n",
       "2                           0.242615                 0.217930   \n",
       "3                          -0.180335                -0.082824   \n",
       "4                          -0.182426                -0.082824   \n",
       "\n",
       "   Total Drug Submitted Charge Amount  Total Drug Allowed Amount   \\\n",
       "0                           -0.049353                   -0.059193   \n",
       "1                            0.056516                    0.095352   \n",
       "2                            0.067961                    0.121605   \n",
       "3                           -0.049353                   -0.059193   \n",
       "4                           -0.049353                   -0.059193   \n",
       "\n",
       "   Total Drug Payment Amount                     ...                     \\\n",
       "0                   -0.061618                    ...                      \n",
       "1                    0.093158                    ...                      \n",
       "2                    0.117104                    ...                      \n",
       "3                   -0.061618                    ...                      \n",
       "4                   -0.061618                    ...                      \n",
       "\n",
       "   Percent Depression   Percent Diabetes   Percent Hyperlipidemia   \\\n",
       "0             2.029613          -0.519895                -0.433808   \n",
       "1             0.402899          -0.147405                -0.083987   \n",
       "2            -0.484400          -0.457813                -0.283885   \n",
       "3            -0.139340          -1.582111                 0.615653   \n",
       "4             1.093020           3.018757                 1.265320   \n",
       "\n",
       "   Percent Hypertension   Percent Ischemic Heart Disease   \\\n",
       "0              -0.481535                        -1.331699   \n",
       "1              -0.191035                        -0.364941   \n",
       "2              -0.142619                        -0.211407   \n",
       "3              -0.142619                         0.351554   \n",
       "4               0.728880                         0.607445   \n",
       "\n",
       "   Percent Osteoporosis   Percent Rheumatoid Arthritis or Osteoarthritis   \\\n",
       "0              -0.917456                                        -0.729602   \n",
       "1               0.290397                                         0.091213   \n",
       "2               0.733917                                         1.678120   \n",
       "3              -1.000246                                         0.091213   \n",
       "4              -1.032771                                         1.076189   \n",
       "\n",
       "   Percent Schizophrenia or Other Psychotic Disorders   Percent Stroke   \\\n",
       "0                                           0.888770          -0.577676   \n",
       "1                                           0.001469           0.689602   \n",
       "2                                          -0.240522           0.282988   \n",
       "3                                          -0.527685          -0.631891   \n",
       "4                                          -0.563177          -0.661710   \n",
       "\n",
       "   Average HCC Risk Score of Beneficiaries   \n",
       "0                                 -0.424243  \n",
       "1                                 -0.070970  \n",
       "2                                 -0.674479  \n",
       "3                                 -0.836396  \n",
       "4                                  0.002629  \n",
       "\n",
       "[5 rows x 29 columns]"
      ]
     },
     "execution_count": 34,
     "metadata": {},
     "output_type": "execute_result"
    }
   ],
   "source": [
    "df2_stand.head()"
   ]
  },
  {
   "cell_type": "code",
   "execution_count": 35,
   "metadata": {},
   "outputs": [
    {
     "data": {
      "text/plain": [
       "0.84107554831932685"
      ]
     },
     "execution_count": 35,
     "metadata": {},
     "output_type": "execute_result"
    }
   ],
   "source": [
    "from sklearn.decomposition import PCA\n",
    "\n",
    "pca = PCA(n_components=8)\n",
    "pca.fit(df2_stand)\n",
    "X_train_pca = pca.transform(df2_stand)\n",
    "\n",
    "np.sum(pca.explained_variance_ratio_)"
   ]
  },
  {
   "cell_type": "code",
   "execution_count": 36,
   "metadata": {},
   "outputs": [
    {
     "data": {
      "text/plain": [
       "0.84107554831932685"
      ]
     },
     "execution_count": 36,
     "metadata": {},
     "output_type": "execute_result"
    }
   ],
   "source": [
    "X_test_pca = pca.transform(df2_stand_test)\n",
    "\n",
    "np.sum(pca.explained_variance_ratio_)"
   ]
  },
  {
   "cell_type": "markdown",
   "metadata": {},
   "source": [
    "### Try 1 class svm"
   ]
  },
  {
   "cell_type": "code",
   "execution_count": 37,
   "metadata": {
    "collapsed": true
   },
   "outputs": [],
   "source": [
    "from sklearn import svm"
   ]
  },
  {
   "cell_type": "code",
   "execution_count": 38,
   "metadata": {},
   "outputs": [
    {
     "data": {
      "text/plain": [
       "OneClassSVM(cache_size=200, coef0=0.0, degree=3, gamma=0.0001, kernel='rbf',\n",
       "      max_iter=-1, nu=0.001, random_state=None, shrinking=True, tol=0.001,\n",
       "      verbose=False)"
      ]
     },
     "execution_count": 38,
     "metadata": {},
     "output_type": "execute_result"
    }
   ],
   "source": [
    "clf = svm.OneClassSVM(nu=0.001, kernel=\"rbf\", gamma = 0.0001)\n",
    "\n",
    "# np.random.seed(9001)\n",
    "msk = np.random.rand(len(X_train_pca)) < 1\n",
    "\n",
    "clf.fit(X_train_pca[msk])"
   ]
  },
  {
   "cell_type": "code",
   "execution_count": 39,
   "metadata": {},
   "outputs": [],
   "source": [
    "risk = clf.decision_function(X_test_pca)"
   ]
  },
  {
   "cell_type": "code",
   "execution_count": 40,
   "metadata": {},
   "outputs": [
    {
     "name": "stdout",
     "output_type": "stream",
     "text": [
      "0.0648339317592\n"
     ]
    }
   ],
   "source": [
    "print(np.mean(risk))"
   ]
  },
  {
   "cell_type": "code",
   "execution_count": 41,
   "metadata": {},
   "outputs": [
    {
     "data": {
      "text/plain": [
       "9741"
      ]
     },
     "execution_count": 41,
     "metadata": {},
     "output_type": "execute_result"
    }
   ],
   "source": [
    "len(np.unique(risk))"
   ]
  },
  {
   "cell_type": "code",
   "execution_count": 42,
   "metadata": {},
   "outputs": [
    {
     "data": {
      "text/plain": [
       "array([-5.06729732, -3.35375874, -2.07465107, ...,  0.75210747,\n",
       "        0.76238406,  0.79363105])"
      ]
     },
     "execution_count": 42,
     "metadata": {},
     "output_type": "execute_result"
    }
   ],
   "source": [
    "np.unique(risk)"
   ]
  },
  {
   "cell_type": "code",
   "execution_count": 43,
   "metadata": {},
   "outputs": [
    {
     "data": {
      "image/png": "[encoded data removed]",
      "text/plain": [
       "<matplotlib.figure.Figure at 0x113dd1d68>"
      ]
     },
     "metadata": {},
     "output_type": "display_data"
    }
   ],
   "source": [
    "plt.hist(risk, bins = 50);"
   ]
  },
  {
   "cell_type": "code",
   "execution_count": 44,
   "metadata": {},
   "outputs": [
    {
     "data": {
      "image/png": "[encoded data removed]",
      "text/plain": [
       "<matplotlib.figure.Figure at 0x113f1f978>"
      ]
     },
     "metadata": {},
     "output_type": "display_data"
    }
   ],
   "source": [
    "# standardize risk\n",
    "sns.set_context('poster')\n",
    "risk_std = (risk - risk.mean())/risk.std()\n",
    "plt.hist(risk_std, bins = 50);"
   ]
  },
  {
   "cell_type": "code",
   "execution_count": 45,
   "metadata": {},
   "outputs": [
    {
     "data": {
      "text/plain": [
       "(9743, 1)"
      ]
     },
     "execution_count": 45,
     "metadata": {},
     "output_type": "execute_result"
    }
   ],
   "source": [
    "risk.shape"
   ]
  },
  {
   "cell_type": "code",
   "execution_count": 46,
   "metadata": {},
   "outputs": [],
   "source": [
    "submission = pd.DataFrame(df['Doctor Identifier'])\n",
    "submission['Risk'] = risk**2\n",
    "submission.reset_index()\n",
    "submission = submission.sort_values(['Risk'], ascending = False)\n",
    "\n",
    "submission.to_csv('/Users/kate_zym/Documents/GitHub/datachallenge/svm_trainontrain.csv', index = False, header = True)"
   ]
  },
  {
   "cell_type": "code",
   "execution_count": 47,
   "metadata": {},
   "outputs": [
    {
     "ename": "NameError",
     "evalue": "name 'sumission' is not defined",
     "output_type": "error",
     "traceback": [
      "\u001b[0;31m---------------------------------------------------------------------------\u001b[0m",
      "\u001b[0;31mNameError\u001b[0m                                 Traceback (most recent call last)",
      "\u001b[0;32m<ipython-input-47-3ff165e87b36>\u001b[0m in \u001b[0;36m<module>\u001b[0;34m()\u001b[0m\n\u001b[0;32m----> 1\u001b[0;31m \u001b[0msumission\u001b[0m\u001b[0;34m.\u001b[0m\u001b[0mshape\u001b[0m\u001b[0;34m\u001b[0m\u001b[0m\n\u001b[0m",
      "\u001b[0;31mNameError\u001b[0m: name 'sumission' is not defined"
     ]
    }
   ],
   "source": [
    "sumission.shape"
   ]
  },
  {
   "cell_type": "code",
   "execution_count": 48,
   "metadata": {},
   "outputs": [
    {
     "data": {
      "text/plain": [
       "(9743, 30)"
      ]
     },
     "execution_count": 48,
     "metadata": {},
     "output_type": "execute_result"
    }
   ],
   "source": [
    "df2_test.shape"
   ]
  },
  {
   "cell_type": "code",
   "execution_count": null,
   "metadata": {
    "collapsed": true
   },
   "outputs": [],
   "source": []
  }
 ],
 "metadata": {
  "kernelspec": {
   "display_name": "Python 3",
   "language": "python",
   "name": "python3"
  },
  "language_info": {
   "codemirror_mode": {
    "name": "ipython",
    "version": 3
   },
   "file_extension": ".py",
   "mimetype": "text/x-python",
   "name": "python",
   "nbconvert_exporter": "python",
   "pygments_lexer": "ipython3",
   "version": "3.6.1"
  }
 },
 "nbformat": 4,
 "nbformat_minor": 2
}
