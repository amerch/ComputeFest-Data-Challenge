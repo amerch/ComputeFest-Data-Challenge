{
 "cells": [
  {
   "cell_type": "code",
   "execution_count": 1,
   "metadata": {
    "collapsed": true
   },
   "outputs": [],
   "source": [
    "import numpy as np\n",
    "import matplotlib.pyplot as plt\n",
    "from sklearn.ensemble import IsolationForest\n",
    "import pandas as pd"
   ]
  },
  {
   "cell_type": "code",
   "execution_count": 2,
   "metadata": {},
   "outputs": [
    {
     "name": "stdout",
     "output_type": "stream",
     "text": [
      "18000\n"
     ]
    }
   ],
   "source": [
    "data = pd.read_csv('X_train1.csv')\n",
    "data.head()\n",
    "print len(data)"
   ]
  },
  {
   "cell_type": "code",
   "execution_count": 3,
   "metadata": {
    "collapsed": true
   },
   "outputs": [],
   "source": [
    "cols = data.columns\n",
    "#for i in range(len(cols)):\n",
    "#    print i, cols[i]\n",
    "\n",
    "index = 0\n",
    "for i in range(2, 14):\n",
    "    data['feature' + str(index)] = data[cols[i]] / data[cols[3]]\n",
    "    index += 1 \n",
    "\n",
    "for i in range(4, 8):\n",
    "    data['feature' + str(index)] = data[cols[i]] / data[cols[2]]\n",
    "    index += 1"
   ]
  },
  {
   "cell_type": "code",
   "execution_count": 4,
   "metadata": {},
   "outputs": [
    {
     "data": {
      "text/plain": [
       "\"\\ngroups = data.groupby('Provider Type')\\nfor group in groups:\\n    print group[0], len(group[1])\\n\""
      ]
     },
     "execution_count": 4,
     "metadata": {},
     "output_type": "execute_result"
    }
   ],
   "source": [
    "'''\n",
    "groups = data.groupby('Provider Type')\n",
    "for group in groups:\n",
    "    print group[0], len(group[1])\n",
    "'''"
   ]
  },
  {
   "cell_type": "code",
   "execution_count": 5,
   "metadata": {
    "collapsed": true
   },
   "outputs": [],
   "source": [
    "data = data.fillna(-1)"
   ]
  },
  {
   "cell_type": "code",
   "execution_count": 6,
   "metadata": {
    "collapsed": true
   },
   "outputs": [],
   "source": [
    "forest = IsolationForest(n_estimators = 10000, max_samples = 256, contamination = 0.01, max_features = 1.0, verbose = 1)\n",
    "df = data.drop(cols[0:2], axis = 1)\n",
    "df_norm = (df - df.mean()) / (df.max() - df.min())\n",
    "df_norm = df_norm.fillna(-1)"
   ]
  },
  {
   "cell_type": "code",
   "execution_count": 7,
   "metadata": {},
   "outputs": [
    {
     "name": "stderr",
     "output_type": "stream",
     "text": [
      "[Parallel(n_jobs=1)]: Done   1 out of   1 | elapsed:  1.0min finished\n"
     ]
    },
    {
     "data": {
      "text/plain": [
       "IsolationForest(bootstrap=False, contamination=0.01, max_features=1.0,\n",
       "        max_samples=256, n_estimators=10000, n_jobs=1, random_state=None,\n",
       "        verbose=1)"
      ]
     },
     "execution_count": 7,
     "metadata": {},
     "output_type": "execute_result"
    }
   ],
   "source": [
    "forest.fit(df_norm)"
   ]
  },
  {
   "cell_type": "code",
   "execution_count": 8,
   "metadata": {},
   "outputs": [
    {
     "name": "stdout",
     "output_type": "stream",
     "text": [
      "[ 0.1267592   0.03313605  0.07818518 ...,  0.05938301  0.15965939\n",
      "  0.12476456]\n",
      "18000\n"
     ]
    }
   ],
   "source": [
    "y_pred = forest.decision_function(df_norm)\n",
    "print y_pred\n",
    "print len(y_pred)"
   ]
  },
  {
   "cell_type": "code",
   "execution_count": 9,
   "metadata": {
    "collapsed": true
   },
   "outputs": [],
   "source": [
    "risk = -y_pred"
   ]
  },
  {
   "cell_type": "code",
   "execution_count": 10,
   "metadata": {
    "collapsed": true
   },
   "outputs": [],
   "source": [
    "submission = pd.DataFrame(data[cols[0]])\n",
    "submission['Risk'] = risk\n",
    "submission.reset_index()\n",
    "submission = submission.sort_values(['Risk'], ascending = False)\n",
    "\n",
    "submission.to_csv('/Users/amilmerchant/challenge/forest.csv', index = False, header = True)"
   ]
  }
 ],
 "metadata": {
  "anaconda-cloud": {},
  "kernelspec": {
   "display_name": "Python 3",
   "language": "python",
   "name": "python3"
  },
  "language_info": {
   "codemirror_mode": {
    "name": "ipython",
    "version": 3
   },
   "file_extension": ".py",
   "mimetype": "text/x-python",
   "name": "python",
   "nbconvert_exporter": "python",
   "pygments_lexer": "ipython3",
   "version": "3.6.1"
  }
 },
 "nbformat": 4,
 "nbformat_minor": 2
}
